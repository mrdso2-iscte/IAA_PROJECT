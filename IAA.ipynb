{
  "nbformat": 4,
  "nbformat_minor": 0,
  "metadata": {
    "colab": {
      "provenance": [],
      "include_colab_link": true
    },
    "kernelspec": {
      "name": "python3",
      "display_name": "Python 3"
    },
    "language_info": {
      "name": "python"
    }
  },
  "cells": [
    {
      "cell_type": "markdown",
      "metadata": {
        "id": "view-in-github",
        "colab_type": "text"
      },
      "source": [
        "<a href=\"https://colab.research.google.com/github/mrdso2-iscte/IAA_PROJECT/blob/main/IAA.ipynb\" target=\"_parent\"><img src=\"https://colab.research.google.com/assets/colab-badge.svg\" alt=\"Open In Colab\"/></a>"
      ]
    },
    {
      "cell_type": "markdown",
      "source": [
        "http://hdl.handle.net/10071/23232\n",
        "\n"
      ],
      "metadata": {
        "id": "8QV3yIGezRxZ"
      }
    },
    {
      "cell_type": "code",
      "source": [
        "\n",
        "import pandas as pd\n",
        "import matplotlib.pyplot as plt\n",
        "import numpy as np\n",
        "import scipy.stats as stats\n",
        "import seaborn as sns"
      ],
      "metadata": {
        "id": "QzL8-qntuM11"
      },
      "execution_count": 66,
      "outputs": []
    },
    {
      "cell_type": "markdown",
      "source": [
        "# **Todo o dataset**"
      ],
      "metadata": {
        "id": "LcxvnAXJTlme"
      }
    },
    {
      "cell_type": "code",
      "source": [
        "d0=pd.read_csv('2010.csv',sep = ';', encoding=\"ISO-8859-1\")\n",
        "d1=pd.read_csv('2011.csv',sep = ';', encoding=\"ISO-8859-1\")\n",
        "d2=pd.read_csv('2012.csv',sep = ';', encoding=\"ISO-8859-1\")\n",
        "d3=pd.read_csv('2013.csv',sep = ';', encoding=\"ISO-8859-1\")\n",
        "d4=pd.read_csv('2014.csv',sep = ';', encoding=\"ISO-8859-1\")\n",
        "d5=pd.read_csv('2015.csv',sep = ';', encoding=\"ISO-8859-1\")\n",
        "d6=pd.read_csv('2016.csv',sep = ';', encoding=\"ISO-8859-1\")\n",
        "d7=pd.read_csv('2017.csv',sep = ';', encoding=\"ISO-8859-1\")\n",
        "d8=pd.read_csv('2018.csv',sep = ';', encoding=\"ISO-8859-1\")\n",
        "d9=pd.read_csv('2019.csv',sep = ';', encoding=\"ISO-8859-1\")\n",
        "data=pd.concat([d0, d1,d2,d3,d4,d5,d6,d7,d8,d9], sort=False)\n"
      ],
      "metadata": {
        "id": "cNZVsFs0uokM"
      },
      "execution_count": null,
      "outputs": []
    },
    {
      "cell_type": "code",
      "source": [
        "percentages=[]\n",
        "\n",
        "mes_groupby=data.groupby(data['Datahora'].str.split(':').str[1])\n",
        "df = pd.DataFrame({'Mes':mes_groupby.groups.keys(), 'N acidentens':mes_groupby.size()})\n",
        "ax = df.plot.bar(x='Mes', y='N acidentens', rot=0,figsize=(10, 7),color='orange')\n",
        "\n",
        "for p in ax.patches:\n",
        "    width = p.get_width()\n",
        "    height = p.get_height()\n",
        "    x, y = p.get_xy()\n",
        "    percentages.append(height/len(data)) \n",
        "    ax.annotate(f'{round(height/len(data)*100,1)}%', (x + width/2, y + height*1.02), ha='center')\n"
      ],
      "metadata": {
        "id": "WximB3FSMYYi",
        "outputId": "46fb7db6-bbbe-4860-d2b5-be413376ba63",
        "colab": {
          "base_uri": "https://localhost:8080/",
          "height": 442
        }
      },
      "execution_count": null,
      "outputs": [
        {
          "output_type": "display_data",
          "data": {
            "text/plain": [
              "<Figure size 720x504 with 1 Axes>"
            ],
            "image/png": "[encoded data removed]"
          },
          "metadata": {
            "needs_background": "light"
          }
        }
      ]
    },
    {
      "cell_type": "code",
      "source": [
        "new_data= pd.DataFrame(columns = data.columns)\n",
        "datas=[]\n",
        "\n",
        "for name, group in mes_groupby:\n",
        "  d=group.sample(int(round(10000*percentages[int(name)-1]))) \n",
        "  new_data.append(d, ignore_index = True)\n",
        "  datas.append(d)\n",
        "\n",
        "\n",
        "new_data=datas[0]\n",
        "\n",
        "for i in range(1,12):\n",
        " new_data=pd.concat([new_data,datas[i]], ignore_index = True)"
      ],
      "metadata": {
        "id": "5izIXfWwiW8n"
      },
      "execution_count": null,
      "outputs": []
    },
    {
      "cell_type": "code",
      "source": [
        "new_data"
      ],
      "metadata": {
        "colab": {
          "base_uri": "https://localhost:8080/",
          "height": 870
        },
        "id": "slwiupCGm2or",
        "outputId": "cf57383d-fd99-418d-e8ea-2683ef7910bd"
      },
      "execution_count": null,
      "outputs": [
        {
          "output_type": "execute_result",
          "data": {
            "text/plain": [
              "      Id. Acidente             Datahora       Dia       Mês      Hora  \\\n",
              "0       2013683017  2013:01:21 17:05:00  01/21/00  01/01/00  01/01/00   \n",
              "1       2011503904  2011:01:08 11:30:00  01/08/00  01/01/00  01/01/00   \n",
              "2       2010429188  2010:01:24 19:10:00  01/24/00  01/01/00  01/01/00   \n",
              "3       2010437471  2010:01:08 08:05:00  01/08/00  01/01/00  01/01/00   \n",
              "4      20171186548  2017:01:22 19:30:00  01/22/00  01/01/00  01/01/00   \n",
              "...            ...                  ...       ...       ...       ...   \n",
              "9995   20171213530  2016:12:19 12:30:00  01/19/00  12/01/00  01/01/00   \n",
              "9996    2015912306  2014:12:06 05:15:00  01/06/00  12/01/00  01/01/00   \n",
              "9997    2014878562  2014:12:22 11:30:00  01/22/00  12/01/00  01/01/00   \n",
              "9998    2010494595  2010:12:04 20:00:00  01/04/00  12/01/00  01/01/00   \n",
              "9999   20161035844  2015:12:04 23:25:00  01/04/00  12/01/00  01/01/00   \n",
              "\n",
              "          Entidades Fiscalizadoras  Velocidade local  Velocidade geral  \\\n",
              "0      Guarda Nacional Republicana              50.0              50.0   \n",
              "1     Polícia de Segurança Pública              50.0              50.0   \n",
              "2     Polícia de Segurança Pública              90.0              90.0   \n",
              "3      Guarda Nacional Republicana              50.0              50.0   \n",
              "4     Polícia de Segurança Pública             100.0             100.0   \n",
              "...                            ...               ...               ...   \n",
              "9995   Guarda Nacional Republicana             100.0             120.0   \n",
              "9996   Guarda Nacional Republicana              50.0              50.0   \n",
              "9997  Polícia de Segurança Pública              50.0              50.0   \n",
              "9998  Polícia de Segurança Pública              50.0              50.0   \n",
              "9999   Guarda Nacional Republicana              50.0              50.0   \n",
              "\n",
              "      Dia da Semana Latitude GPS  ...    Obstáculos  \\\n",
              "0     Segunda-Feira          NaN  ...  Inexistentes   \n",
              "1     Sábado                0,00  ...  Inexistentes   \n",
              "2     Domingo          39,510948  ...  Inexistentes   \n",
              "3     Sexta-Feira            NaN  ...  Inexistentes   \n",
              "4     Domingo          38,742541  ...  Inexistentes   \n",
              "...             ...          ...  ...           ...   \n",
              "9995  Segunda-Feira    41,093645  ...  Inexistentes   \n",
              "9996  Sábado           41,171294  ...  Inexistentes   \n",
              "9997  Segunda-Feira    38,954291  ...  Inexistentes   \n",
              "9998  Sábado                0,00  ...  Inexistentes   \n",
              "9999  Sexta-Feira      40,582281  ...  Inexistentes   \n",
              "\n",
              "                                     Sentidos             Sinais  \\\n",
              "0                                NÃO DEFINIDO               Stop   \n",
              "1                                NÃO DEFINIDO       NÃO DEFINIDO   \n",
              "2                                NÃO DEFINIDO             Outros   \n",
              "3                                NÃO DEFINIDO       NÃO DEFINIDO   \n",
              "4       No sentido crescente da quilometragem             Outros   \n",
              "...                                       ...                ...   \n",
              "9995    No sentido crescente da quilometragem             Outros   \n",
              "9996                             NÃO DEFINIDO       NÃO DEFINIDO   \n",
              "9997                             NÃO DEFINIDO  Passagem de peões   \n",
              "9998  No sentido decrescente da quilometragem             Outros   \n",
              "9999                             NÃO DEFINIDO               Stop   \n",
              "\n",
              "             Sinais Luminosos   Tipo Piso Traçado 1       Traçado 2  \\\n",
              "0                Inexistentes  Betuminoso     Recta  Com inclinação   \n",
              "1                Inexistentes     Calçada     Curva  Com inclinação   \n",
              "2                Inexistentes  Betuminoso     Recta  Com inclinação   \n",
              "3                Inexistentes  Betuminoso     Curva  Com inclinação   \n",
              "4                Inexistentes  Betuminoso     Recta  Com inclinação   \n",
              "...                       ...         ...       ...             ...   \n",
              "9995             Inexistentes  Betuminoso     Recta      Em patamar   \n",
              "9996             Inexistentes  Betuminoso     Recta      Em patamar   \n",
              "9997  A funcionar normalmente  Betuminoso     Recta      Em patamar   \n",
              "9998             Inexistentes  Betuminoso     Recta      Em patamar   \n",
              "9999             Inexistentes  Betuminoso     Recta      Em patamar   \n",
              "\n",
              "                      Traçado 3     Traçado 4 Via Trânsito  \n",
              "0             Berma pavimentada  Em plena via      Direita  \n",
              "1     Sem berma ou impraticável  Em plena via      Direita  \n",
              "2         Berma não pavimentada  Em plena via      Direita  \n",
              "3             Berma pavimentada  Em plena via      Direita  \n",
              "4             Berma pavimentada  Em plena via     Esquerda  \n",
              "...                         ...           ...          ...  \n",
              "9995  Sem berma ou impraticável  Em plena via     Esquerda  \n",
              "9996          Berma pavimentada  Em plena via      Direita  \n",
              "9997          Berma pavimentada  Em plena via      Direita  \n",
              "9998          Berma pavimentada  Em plena via     Esquerda  \n",
              "9999          Berma pavimentada  Em plena via      Direita  \n",
              "\n",
              "[10000 rows x 43 columns]"
            ],
            "text/html": [
              "\n",
              "  <div id=\"df-7ecb7b23-af82-453c-bfff-58bce90dde03\">\n",
              "    <div class=\"colab-df-container\">\n",
              "      <div>\n",
              "<style scoped>\n",
              "    .dataframe tbody tr th:only-of-type {\n",
              "        vertical-align: middle;\n",
              "    }\n",
              "\n",
              "    .dataframe tbody tr th {\n",
              "        vertical-align: top;\n",
              "    }\n",
              "\n",
              "    .dataframe thead th {\n",
              "        text-align: right;\n",
              "    }\n",
              "</style>\n",
              "<table border=\"1\" class=\"dataframe\">\n",
              "  <thead>\n",
              "    <tr style=\"text-align: right;\">\n",
              "      <th></th>\n",
              "      <th>Id. Acidente</th>\n",
              "      <th>Datahora</th>\n",
              "      <th>Dia</th>\n",
              "      <th>Mês</th>\n",
              "      <th>Hora</th>\n",
              "      <th>Entidades Fiscalizadoras</th>\n",
              "      <th>Velocidade local</th>\n",
              "      <th>Velocidade geral</th>\n",
              "      <th>Dia da Semana</th>\n",
              "      <th>Latitude GPS</th>\n",
              "      <th>...</th>\n",
              "      <th>Obstáculos</th>\n",
              "      <th>Sentidos</th>\n",
              "      <th>Sinais</th>\n",
              "      <th>Sinais Luminosos</th>\n",
              "      <th>Tipo Piso</th>\n",
              "      <th>Traçado 1</th>\n",
              "      <th>Traçado 2</th>\n",
              "      <th>Traçado 3</th>\n",
              "      <th>Traçado 4</th>\n",
              "      <th>Via Trânsito</th>\n",
              "    </tr>\n",
              "  </thead>\n",
              "  <tbody>\n",
              "    <tr>\n",
              "      <th>0</th>\n",
              "      <td>2013683017</td>\n",
              "      <td>2013:01:21 17:05:00</td>\n",
              "      <td>01/21/00</td>\n",
              "      <td>01/01/00</td>\n",
              "      <td>01/01/00</td>\n",
              "      <td>Guarda Nacional Republicana</td>\n",
              "      <td>50.0</td>\n",
              "      <td>50.0</td>\n",
              "      <td>Segunda-Feira</td>\n",
              "      <td>NaN</td>\n",
              "      <td>...</td>\n",
              "      <td>Inexistentes</td>\n",
              "      <td>NÃO DEFINIDO</td>\n",
              "      <td>Stop</td>\n",
              "      <td>Inexistentes</td>\n",
              "      <td>Betuminoso</td>\n",
              "      <td>Recta</td>\n",
              "      <td>Com inclinação</td>\n",
              "      <td>Berma pavimentada</td>\n",
              "      <td>Em plena via</td>\n",
              "      <td>Direita</td>\n",
              "    </tr>\n",
              "    <tr>\n",
              "      <th>1</th>\n",
              "      <td>2011503904</td>\n",
              "      <td>2011:01:08 11:30:00</td>\n",
              "      <td>01/08/00</td>\n",
              "      <td>01/01/00</td>\n",
              "      <td>01/01/00</td>\n",
              "      <td>Polícia de Segurança Pública</td>\n",
              "      <td>50.0</td>\n",
              "      <td>50.0</td>\n",
              "      <td>Sábado</td>\n",
              "      <td>0,00</td>\n",
              "      <td>...</td>\n",
              "      <td>Inexistentes</td>\n",
              "      <td>NÃO DEFINIDO</td>\n",
              "      <td>NÃO DEFINIDO</td>\n",
              "      <td>Inexistentes</td>\n",
              "      <td>Calçada</td>\n",
              "      <td>Curva</td>\n",
              "      <td>Com inclinação</td>\n",
              "      <td>Sem berma ou impraticável</td>\n",
              "      <td>Em plena via</td>\n",
              "      <td>Direita</td>\n",
              "    </tr>\n",
              "    <tr>\n",
              "      <th>2</th>\n",
              "      <td>2010429188</td>\n",
              "      <td>2010:01:24 19:10:00</td>\n",
              "      <td>01/24/00</td>\n",
              "      <td>01/01/00</td>\n",
              "      <td>01/01/00</td>\n",
              "      <td>Polícia de Segurança Pública</td>\n",
              "      <td>90.0</td>\n",
              "      <td>90.0</td>\n",
              "      <td>Domingo</td>\n",
              "      <td>39,510948</td>\n",
              "      <td>...</td>\n",
              "      <td>Inexistentes</td>\n",
              "      <td>NÃO DEFINIDO</td>\n",
              "      <td>Outros</td>\n",
              "      <td>Inexistentes</td>\n",
              "      <td>Betuminoso</td>\n",
              "      <td>Recta</td>\n",
              "      <td>Com inclinação</td>\n",
              "      <td>Berma não pavimentada</td>\n",
              "      <td>Em plena via</td>\n",
              "      <td>Direita</td>\n",
              "    </tr>\n",
              "    <tr>\n",
              "      <th>3</th>\n",
              "      <td>2010437471</td>\n",
              "      <td>2010:01:08 08:05:00</td>\n",
              "      <td>01/08/00</td>\n",
              "      <td>01/01/00</td>\n",
              "      <td>01/01/00</td>\n",
              "      <td>Guarda Nacional Republicana</td>\n",
              "      <td>50.0</td>\n",
              "      <td>50.0</td>\n",
              "      <td>Sexta-Feira</td>\n",
              "      <td>NaN</td>\n",
              "      <td>...</td>\n",
              "      <td>Inexistentes</td>\n",
              "      <td>NÃO DEFINIDO</td>\n",
              "      <td>NÃO DEFINIDO</td>\n",
              "      <td>Inexistentes</td>\n",
              "      <td>Betuminoso</td>\n",
              "      <td>Curva</td>\n",
              "      <td>Com inclinação</td>\n",
              "      <td>Berma pavimentada</td>\n",
              "      <td>Em plena via</td>\n",
              "      <td>Direita</td>\n",
              "    </tr>\n",
              "    <tr>\n",
              "      <th>4</th>\n",
              "      <td>20171186548</td>\n",
              "      <td>2017:01:22 19:30:00</td>\n",
              "      <td>01/22/00</td>\n",
              "      <td>01/01/00</td>\n",
              "      <td>01/01/00</td>\n",
              "      <td>Polícia de Segurança Pública</td>\n",
              "      <td>100.0</td>\n",
              "      <td>100.0</td>\n",
              "      <td>Domingo</td>\n",
              "      <td>38,742541</td>\n",
              "      <td>...</td>\n",
              "      <td>Inexistentes</td>\n",
              "      <td>No sentido crescente da quilometragem</td>\n",
              "      <td>Outros</td>\n",
              "      <td>Inexistentes</td>\n",
              "      <td>Betuminoso</td>\n",
              "      <td>Recta</td>\n",
              "      <td>Com inclinação</td>\n",
              "      <td>Berma pavimentada</td>\n",
              "      <td>Em plena via</td>\n",
              "      <td>Esquerda</td>\n",
              "    </tr>\n",
              "    <tr>\n",
              "      <th>...</th>\n",
              "      <td>...</td>\n",
              "      <td>...</td>\n",
              "      <td>...</td>\n",
              "      <td>...</td>\n",
              "      <td>...</td>\n",
              "      <td>...</td>\n",
              "      <td>...</td>\n",
              "      <td>...</td>\n",
              "      <td>...</td>\n",
              "      <td>...</td>\n",
              "      <td>...</td>\n",
              "      <td>...</td>\n",
              "      <td>...</td>\n",
              "      <td>...</td>\n",
              "      <td>...</td>\n",
              "      <td>...</td>\n",
              "      <td>...</td>\n",
              "      <td>...</td>\n",
              "      <td>...</td>\n",
              "      <td>...</td>\n",
              "      <td>...</td>\n",
              "    </tr>\n",
              "    <tr>\n",
              "      <th>9995</th>\n",
              "      <td>20171213530</td>\n",
              "      <td>2016:12:19 12:30:00</td>\n",
              "      <td>01/19/00</td>\n",
              "      <td>12/01/00</td>\n",
              "      <td>01/01/00</td>\n",
              "      <td>Guarda Nacional Republicana</td>\n",
              "      <td>100.0</td>\n",
              "      <td>120.0</td>\n",
              "      <td>Segunda-Feira</td>\n",
              "      <td>41,093645</td>\n",
              "      <td>...</td>\n",
              "      <td>Inexistentes</td>\n",
              "      <td>No sentido crescente da quilometragem</td>\n",
              "      <td>Outros</td>\n",
              "      <td>Inexistentes</td>\n",
              "      <td>Betuminoso</td>\n",
              "      <td>Recta</td>\n",
              "      <td>Em patamar</td>\n",
              "      <td>Sem berma ou impraticável</td>\n",
              "      <td>Em plena via</td>\n",
              "      <td>Esquerda</td>\n",
              "    </tr>\n",
              "    <tr>\n",
              "      <th>9996</th>\n",
              "      <td>2015912306</td>\n",
              "      <td>2014:12:06 05:15:00</td>\n",
              "      <td>01/06/00</td>\n",
              "      <td>12/01/00</td>\n",
              "      <td>01/01/00</td>\n",
              "      <td>Guarda Nacional Republicana</td>\n",
              "      <td>50.0</td>\n",
              "      <td>50.0</td>\n",
              "      <td>Sábado</td>\n",
              "      <td>41,171294</td>\n",
              "      <td>...</td>\n",
              "      <td>Inexistentes</td>\n",
              "      <td>NÃO DEFINIDO</td>\n",
              "      <td>NÃO DEFINIDO</td>\n",
              "      <td>Inexistentes</td>\n",
              "      <td>Betuminoso</td>\n",
              "      <td>Recta</td>\n",
              "      <td>Em patamar</td>\n",
              "      <td>Berma pavimentada</td>\n",
              "      <td>Em plena via</td>\n",
              "      <td>Direita</td>\n",
              "    </tr>\n",
              "    <tr>\n",
              "      <th>9997</th>\n",
              "      <td>2014878562</td>\n",
              "      <td>2014:12:22 11:30:00</td>\n",
              "      <td>01/22/00</td>\n",
              "      <td>12/01/00</td>\n",
              "      <td>01/01/00</td>\n",
              "      <td>Polícia de Segurança Pública</td>\n",
              "      <td>50.0</td>\n",
              "      <td>50.0</td>\n",
              "      <td>Segunda-Feira</td>\n",
              "      <td>38,954291</td>\n",
              "      <td>...</td>\n",
              "      <td>Inexistentes</td>\n",
              "      <td>NÃO DEFINIDO</td>\n",
              "      <td>Passagem de peões</td>\n",
              "      <td>A funcionar normalmente</td>\n",
              "      <td>Betuminoso</td>\n",
              "      <td>Recta</td>\n",
              "      <td>Em patamar</td>\n",
              "      <td>Berma pavimentada</td>\n",
              "      <td>Em plena via</td>\n",
              "      <td>Direita</td>\n",
              "    </tr>\n",
              "    <tr>\n",
              "      <th>9998</th>\n",
              "      <td>2010494595</td>\n",
              "      <td>2010:12:04 20:00:00</td>\n",
              "      <td>01/04/00</td>\n",
              "      <td>12/01/00</td>\n",
              "      <td>01/01/00</td>\n",
              "      <td>Polícia de Segurança Pública</td>\n",
              "      <td>50.0</td>\n",
              "      <td>50.0</td>\n",
              "      <td>Sábado</td>\n",
              "      <td>0,00</td>\n",
              "      <td>...</td>\n",
              "      <td>Inexistentes</td>\n",
              "      <td>No sentido decrescente da quilometragem</td>\n",
              "      <td>Outros</td>\n",
              "      <td>Inexistentes</td>\n",
              "      <td>Betuminoso</td>\n",
              "      <td>Recta</td>\n",
              "      <td>Em patamar</td>\n",
              "      <td>Berma pavimentada</td>\n",
              "      <td>Em plena via</td>\n",
              "      <td>Esquerda</td>\n",
              "    </tr>\n",
              "    <tr>\n",
              "      <th>9999</th>\n",
              "      <td>20161035844</td>\n",
              "      <td>2015:12:04 23:25:00</td>\n",
              "      <td>01/04/00</td>\n",
              "      <td>12/01/00</td>\n",
              "      <td>01/01/00</td>\n",
              "      <td>Guarda Nacional Republicana</td>\n",
              "      <td>50.0</td>\n",
              "      <td>50.0</td>\n",
              "      <td>Sexta-Feira</td>\n",
              "      <td>40,582281</td>\n",
              "      <td>...</td>\n",
              "      <td>Inexistentes</td>\n",
              "      <td>NÃO DEFINIDO</td>\n",
              "      <td>Stop</td>\n",
              "      <td>Inexistentes</td>\n",
              "      <td>Betuminoso</td>\n",
              "      <td>Recta</td>\n",
              "      <td>Em patamar</td>\n",
              "      <td>Berma pavimentada</td>\n",
              "      <td>Em plena via</td>\n",
              "      <td>Direita</td>\n",
              "    </tr>\n",
              "  </tbody>\n",
              "</table>\n",
              "<p>10000 rows × 43 columns</p>\n",
              "</div>\n",
              "      <button class=\"colab-df-convert\" onclick=\"convertToInteractive('df-7ecb7b23-af82-453c-bfff-58bce90dde03')\"\n",
              "              title=\"Convert this dataframe to an interactive table.\"\n",
              "              style=\"display:none;\">\n",
              "        \n",
              "  <svg xmlns=\"http://www.w3.org/2000/svg\" height=\"24px\"viewBox=\"0 0 24 24\"\n",
              "       width=\"24px\">\n",
              "    <path d=\"M0 0h24v24H0V0z\" fill=\"none\"/>\n",
              "    <path d=\"M18.56 5.44l.94 2.06.94-2.06 2.06-.94-2.06-.94-.94-2.06-.94 2.06-2.06.94zm-11 1L8.5 8.5l.94-2.06 2.06-.94-2.06-.94L8.5 2.5l-.94 2.06-2.06.94zm10 10l.94 2.06.94-2.06 2.06-.94-2.06-.94-.94-2.06-.94 2.06-2.06.94z\"/><path d=\"M17.41 7.96l-1.37-1.37c-.4-.4-.92-.59-1.43-.59-.52 0-1.04.2-1.43.59L10.3 9.45l-7.72 7.72c-.78.78-.78 2.05 0 2.83L4 21.41c.39.39.9.59 1.41.59.51 0 1.02-.2 1.41-.59l7.78-7.78 2.81-2.81c.8-.78.8-2.07 0-2.86zM5.41 20L4 18.59l7.72-7.72 1.47 1.35L5.41 20z\"/>\n",
              "  </svg>\n",
              "      </button>\n",
              "      \n",
              "  <style>\n",
              "    .colab-df-container {\n",
              "      display:flex;\n",
              "      flex-wrap:wrap;\n",
              "      gap: 12px;\n",
              "    }\n",
              "\n",
              "    .colab-df-convert {\n",
              "      background-color: #E8F0FE;\n",
              "      border: none;\n",
              "      border-radius: 50%;\n",
              "      cursor: pointer;\n",
              "      display: none;\n",
              "      fill: #1967D2;\n",
              "      height: 32px;\n",
              "      padding: 0 0 0 0;\n",
              "      width: 32px;\n",
              "    }\n",
              "\n",
              "    .colab-df-convert:hover {\n",
              "      background-color: #E2EBFA;\n",
              "      box-shadow: 0px 1px 2px rgba(60, 64, 67, 0.3), 0px 1px 3px 1px rgba(60, 64, 67, 0.15);\n",
              "      fill: #174EA6;\n",
              "    }\n",
              "\n",
              "    [theme=dark] .colab-df-convert {\n",
              "      background-color: #3B4455;\n",
              "      fill: #D2E3FC;\n",
              "    }\n",
              "\n",
              "    [theme=dark] .colab-df-convert:hover {\n",
              "      background-color: #434B5C;\n",
              "      box-shadow: 0px 1px 3px 1px rgba(0, 0, 0, 0.15);\n",
              "      filter: drop-shadow(0px 1px 2px rgba(0, 0, 0, 0.3));\n",
              "      fill: #FFFFFF;\n",
              "    }\n",
              "  </style>\n",
              "\n",
              "      <script>\n",
              "        const buttonEl =\n",
              "          document.querySelector('#df-7ecb7b23-af82-453c-bfff-58bce90dde03 button.colab-df-convert');\n",
              "        buttonEl.style.display =\n",
              "          google.colab.kernel.accessAllowed ? 'block' : 'none';\n",
              "\n",
              "        async function convertToInteractive(key) {\n",
              "          const element = document.querySelector('#df-7ecb7b23-af82-453c-bfff-58bce90dde03');\n",
              "          const dataTable =\n",
              "            await google.colab.kernel.invokeFunction('convertToInteractive',\n",
              "                                                     [key], {});\n",
              "          if (!dataTable) return;\n",
              "\n",
              "          const docLinkHtml = 'Like what you see? Visit the ' +\n",
              "            '<a target=\"_blank\" href=https://colab.research.google.com/notebooks/data_table.ipynb>data table notebook</a>'\n",
              "            + ' to learn more about interactive tables.';\n",
              "          element.innerHTML = '';\n",
              "          dataTable['output_type'] = 'display_data';\n",
              "          await google.colab.output.renderOutput(dataTable, element);\n",
              "          const docLink = document.createElement('div');\n",
              "          docLink.innerHTML = docLinkHtml;\n",
              "          element.appendChild(docLink);\n",
              "        }\n",
              "      </script>\n",
              "    </div>\n",
              "  </div>\n",
              "  "
            ]
          },
          "metadata": {},
          "execution_count": 23
        }
      ]
    },
    {
      "cell_type": "code",
      "source": [
        "percentages=[]\n",
        "mes_groupby=new_data.groupby(new_data['Datahora'].str.split(':').str[1])\n",
        "df = pd.DataFrame({'Mes':mes_groupby.groups.keys(), 'N acidentens':mes_groupby.size()})\n",
        "ax = df.plot.bar(x='Mes', y='N acidentens', rot=0,figsize=(10, 7),color='orange')\n",
        "\n",
        "for p in ax.patches:\n",
        "    width = p.get_width()\n",
        "    height = p.get_height()\n",
        "    x, y = p.get_xy()\n",
        "    percentages.append(height/len(new_data)) \n",
        "    ax.annotate(f'{round(height/len(new_data)*100,1)}%', (x + width/2, y + height*1.02), ha='center')"
      ],
      "metadata": {
        "colab": {
          "base_uri": "https://localhost:8080/",
          "height": 442
        },
        "id": "2sqIxyGhpt2P",
        "outputId": "e4ea46b5-94fc-4b94-a2e7-de4cbe5a42d2"
      },
      "execution_count": null,
      "outputs": [
        {
          "output_type": "display_data",
          "data": {
            "text/plain": [
              "<Figure size 720x504 with 1 Axes>"
            ],
            "image/png": "[encoded data removed]"
          },
          "metadata": {
            "needs_background": "light"
          }
        }
      ]
    },
    {
      "cell_type": "code",
      "source": [
        "new_data.to_csv('acidentes.csv', index=False)"
      ],
      "metadata": {
        "id": "irgE1eXuqr2-",
        "colab": {
          "base_uri": "https://localhost:8080/",
          "height": 165
        },
        "outputId": "502e536e-3897-4709-ee03-3859cdc24c99"
      },
      "execution_count": 195,
      "outputs": [
        {
          "output_type": "error",
          "ename": "NameError",
          "evalue": "ignored",
          "traceback": [
            "\u001b[0;31m---------------------------------------------------------------------------\u001b[0m",
            "\u001b[0;31mNameError\u001b[0m                                 Traceback (most recent call last)",
            "\u001b[0;32m<ipython-input-195-5dd3967c908b>\u001b[0m in \u001b[0;36m<module>\u001b[0;34m\u001b[0m\n\u001b[0;32m----> 1\u001b[0;31m \u001b[0mnew_data\u001b[0m\u001b[0;34m.\u001b[0m\u001b[0mto_csv\u001b[0m\u001b[0;34m(\u001b[0m\u001b[0;34m'acidentes.csv'\u001b[0m\u001b[0;34m,\u001b[0m \u001b[0mindex\u001b[0m\u001b[0;34m=\u001b[0m\u001b[0;32mFalse\u001b[0m\u001b[0;34m)\u001b[0m\u001b[0;34m\u001b[0m\u001b[0;34m\u001b[0m\u001b[0m\n\u001b[0m",
            "\u001b[0;31mNameError\u001b[0m: name 'new_data' is not defined"
          ]
        }
      ]
    },
    {
      "cell_type": "markdown",
      "source": [
        "# **Data Understanding**"
      ],
      "metadata": {
        "id": "YJtYchelralP"
      }
    },
    {
      "cell_type": "markdown",
      "source": [
        "## **Pergunta 1**"
      ],
      "metadata": {
        "id": "9-LWH3tOZ3FF"
      }
    },
    {
      "cell_type": "markdown",
      "source": [
        "1. Extract a random sample of 10000+ examples taking random examples from all files\n",
        "from 2010 to 2019. Save the sample;"
      ],
      "metadata": {
        "id": "kfjrmAOMZ7-Q"
      }
    },
    {
      "cell_type": "code",
      "source": [
        "acidentes_df=pd.read_csv('acidentes.csv',sep = ',')"
      ],
      "metadata": {
        "id": "gclWrurfsyhs"
      },
      "execution_count": 67,
      "outputs": []
    },
    {
      "cell_type": "code",
      "source": [
        "acidentes_df.info()"
      ],
      "metadata": {
        "colab": {
          "base_uri": "https://localhost:8080/"
        },
        "id": "ECv9TXPftcrB",
        "outputId": "6d735d2e-acd0-4786-fbd2-145984d3e4b5"
      },
      "execution_count": 68,
      "outputs": [
        {
          "output_type": "stream",
          "name": "stdout",
          "text": [
            "<class 'pandas.core.frame.DataFrame'>\n",
            "RangeIndex: 5273 entries, 0 to 5272\n",
            "Data columns (total 43 columns):\n",
            " #   Column                           Non-Null Count  Dtype  \n",
            "---  ------                           --------------  -----  \n",
            " 0   Id. Acidente                     5273 non-null   int64  \n",
            " 1   Datahora                         5273 non-null   object \n",
            " 2   Dia                              5273 non-null   object \n",
            " 3   Mês                              5273 non-null   object \n",
            " 4   Hora                             5273 non-null   object \n",
            " 5   Entidades Fiscalizadoras         5273 non-null   object \n",
            " 6   Velocidade local                 5218 non-null   float64\n",
            " 7   Velocidade geral                 5265 non-null   float64\n",
            " 8   Dia da Semana                    5273 non-null   object \n",
            " 9   Latitude GPS                     4669 non-null   object \n",
            " 10  Longitude GPS                    4665 non-null   object \n",
            " 11  Num. Mortos a 30 dias            5273 non-null   int64  \n",
            " 12  Num. Feridos graves a 30 dias    5273 non-null   int64  \n",
            " 13  Num. Feridos ligeiros a 30 dias  5273 non-null   int64  \n",
            " 14  Características Tecnicas1        5273 non-null   object \n",
            " 15  Cond Aderência                   5272 non-null   object \n",
            " 16  Distrito                         5272 non-null   object \n",
            " 17  Concelho                         5272 non-null   object \n",
            " 18  Freguesia                        5272 non-null   object \n",
            " 19  Pov. Proxima                     4111 non-null   object \n",
            " 20  Nome arruamento                  3188 non-null   object \n",
            " 21  Tipos Vias                       5272 non-null   object \n",
            " 22  Cod Via                          5272 non-null   object \n",
            " 23  Estado Conservação               5272 non-null   object \n",
            " 24  Km                               1660 non-null   object \n",
            " 25  Factores Atmosféricos            5272 non-null   object \n",
            " 26  Reg Circulação1                  5272 non-null   object \n",
            " 27  Intersecção Vias                 5272 non-null   object \n",
            " 28  Localizações                     5272 non-null   object \n",
            " 29  Luminosidade                     5272 non-null   object \n",
            " 30  Marca Via                        5272 non-null   object \n",
            " 31  Natureza                         5272 non-null   object \n",
            " 32  Obras Arte                       5272 non-null   object \n",
            " 33  Obstáculos                       5272 non-null   object \n",
            " 34  Sentidos                         5272 non-null   object \n",
            " 35  Sinais                           5272 non-null   object \n",
            " 36  Sinais Luminosos                 5272 non-null   object \n",
            " 37  Tipo Piso                        5272 non-null   object \n",
            " 38  Traçado 1                        5272 non-null   object \n",
            " 39  Traçado 2                        5272 non-null   object \n",
            " 40  Traçado 3                        5272 non-null   object \n",
            " 41  Traçado 4                        5272 non-null   object \n",
            " 42  Via Trânsito                     5272 non-null   object \n",
            "dtypes: float64(2), int64(4), object(37)\n",
            "memory usage: 1.7+ MB\n"
          ]
        }
      ]
    },
    {
      "cell_type": "code",
      "source": [
        "import io\n",
        "buffer = io.StringIO()\n",
        "acidentes_df.info(buf=buffer)\n",
        "s = buffer.getvalue()\n",
        "with open(\"df_info.csv\", \"w\",\n",
        "          encoding=\"utf-8\") as f:  \n",
        "    f.write(s)"
      ],
      "metadata": {
        "id": "XvdAuILmodUr"
      },
      "execution_count": 69,
      "outputs": []
    },
    {
      "cell_type": "markdown",
      "source": [
        "## **Pergunta 2**\n"
      ],
      "metadata": {
        "id": "Qj-XsZ7wW7qr"
      }
    },
    {
      "cell_type": "markdown",
      "source": [
        "2. Decide which (if any) characteristics should be normalized, discretized, or change format\n",
        "in any way. Perform these transformations in the sample and save the new file\n",
        "under a different name;"
      ],
      "metadata": {
        "id": "o9Cgf9stXDQq"
      }
    },
    {
      "cell_type": "markdown",
      "source": [
        "### Categorizaçao Periodos do Dia"
      ],
      "metadata": {
        "id": "kS1Izyt9lJlh"
      }
    },
    {
      "cell_type": "code",
      "source": [
        "acidentes_df['Periodo do Dia']=acidentes_df['Datahora'].str.split(' ').str[-1]     \n",
        "\n",
        "## METER A COLUNA DATAHORA PARA DATETIME\n",
        "acidentes_df['Periodo do Dia'] = pd.to_datetime(acidentes_df['Periodo do Dia'])\n",
        "     "
      ],
      "metadata": {
        "id": "i1X2Ck0RCHUB"
      },
      "execution_count": 70,
      "outputs": []
    },
    {
      "cell_type": "code",
      "source": [
        "\n",
        "slots=['06:00:00','12:00:00','18:00:00']\n",
        "hours=pd.to_datetime(slots)\n",
        "\n",
        "day_slots=[]\n",
        "for index in acidentes_df.index:\n",
        "  \n",
        "  if acidentes_df['Periodo do Dia'][index] < hours[0]:\n",
        "    day_slots.append('Madrugada')\n",
        "  elif (acidentes_df['Periodo do Dia'][index] >= hours[0]) & (acidentes_df['Periodo do Dia'][index] < hours[1]):\n",
        "    day_slots.append('Manha')\n",
        "  elif  (acidentes_df['Periodo do Dia'][index] >= hours[1]) & (acidentes_df['Periodo do Dia'][index] < hours[2]):\n",
        "    day_slots.append('Tarde')\n",
        "  else:\n",
        "    day_slots.append('Noite')\n",
        "\n"
      ],
      "metadata": {
        "id": "7dzaxyUICGnF"
      },
      "execution_count": 71,
      "outputs": []
    },
    {
      "cell_type": "code",
      "source": [
        "acidentes_df['Periodo do Dia']=day_slots\n",
        "acidentes_df['Periodo do Dia'].value_counts().plot(kind = 'bar',rot = 0,color='orange',title=\"Periodos do Dia\")"
      ],
      "metadata": {
        "colab": {
          "base_uri": "https://localhost:8080/",
          "height": 0
        },
        "id": "aaTNIWiqCO5a",
        "outputId": "e11228a4-e736-4555-a2dc-738c2d8336a5"
      },
      "execution_count": 72,
      "outputs": [
        {
          "output_type": "execute_result",
          "data": {
            "text/plain": [
              "<matplotlib.axes._subplots.AxesSubplot at 0x7f5aa0104880>"
            ]
          },
          "metadata": {},
          "execution_count": 72
        },
        {
          "output_type": "display_data",
          "data": {
            "text/plain": [
              "<Figure size 432x288 with 1 Axes>"
            ],
            "image/png": "[encoded data removed]"
          },
          "metadata": {
            "needs_background": "light"
          }
        }
      ]
    },
    {
      "cell_type": "markdown",
      "source": [
        "### Categorização Tipo de acidentes"
      ],
      "metadata": {
        "id": "Xs4Sz-D_lB9d"
      }
    },
    {
      "cell_type": "code",
      "source": [
        "accident_type=[]\n",
        "for index in acidentes_df.index: \n",
        "  if (acidentes_df['Num. Mortos a 30 dias'][index]>0):    \n",
        "    accident_type.append('muito grave')\n",
        "  elif (acidentes_df['Num. Feridos graves a 30 dias'][index]>0) & (acidentes_df['Num. Mortos a 30 dias'][index]==0):\n",
        "    accident_type.append('grave')\n",
        "  else:\n",
        "     accident_type.append('ligeiro')\n",
        "print(len(accident_type))\n"
      ],
      "metadata": {
        "colab": {
          "base_uri": "https://localhost:8080/"
        },
        "id": "Rtzpk8r2S4xj",
        "outputId": "3189ba07-15d8-4f07-cfba-06e7f29b69c9"
      },
      "execution_count": 73,
      "outputs": [
        {
          "output_type": "stream",
          "name": "stdout",
          "text": [
            "5273\n"
          ]
        }
      ]
    },
    {
      "cell_type": "code",
      "source": [
        "acidentes_df['Tipo de Acidente']=accident_type\n",
        "acidentes_df['Tipo de Acidente'].value_counts().plot(kind = 'bar',rot = 0,color='orange',title=\"Tipo de acidente\")"
      ],
      "metadata": {
        "colab": {
          "base_uri": "https://localhost:8080/",
          "height": 0
        },
        "id": "XCQf_EktU-G4",
        "outputId": "7f37f814-ac1c-45db-dec7-10be110792ad"
      },
      "execution_count": 74,
      "outputs": [
        {
          "output_type": "execute_result",
          "data": {
            "text/plain": [
              "<matplotlib.axes._subplots.AxesSubplot at 0x7f5a9f964e80>"
            ]
          },
          "metadata": {},
          "execution_count": 74
        },
        {
          "output_type": "display_data",
          "data": {
            "text/plain": [
              "<Figure size 432x288 with 1 Axes>"
            ],
            "image/png": "[encoded data removed]"
          },
          "metadata": {
            "needs_background": "light"
          }
        }
      ]
    },
    {
      "cell_type": "markdown",
      "source": [
        "### Categorização concelhos"
      ],
      "metadata": {
        "id": "AWmX0nAkk8Y-"
      }
    },
    {
      "cell_type": "code",
      "source": [
        "acidentes_df=acidentes_df.replace('Sobral Monte Agraco','Sobral de Monte Agraco')\n",
        "acidentes_df=acidentes_df.replace('Lagoa (Algarve)','Lagoa')\n",
        "acidentes_df=acidentes_df.replace('Freixo Espada a Cinta','Freixo de Espada a Cinta')\n"
      ],
      "metadata": {
        "id": "YBYx8j0JSIrn"
      },
      "execution_count": 75,
      "outputs": []
    },
    {
      "cell_type": "code",
      "source": [
        "nuts_site_df=pd.read_csv('nuts_site.csv',sep = ';', encoding=\"ISO-8859-1\")\n",
        "nuts_site_df= nuts_site_df[['NUTS II','CONCELHO']]\n",
        "drop_elements= nuts_site_df[(nuts_site_df['NUTS II']=='REGIÃO AUTÓNOMA DOS AÇORES') | (nuts_site_df['NUTS II']=='REGIÃO AUTÓNOMA DA MADEIRA')].index\n",
        "nuts_site_df.drop(drop_elements, inplace=True)\n",
        "nuts_site_df = nuts_site_df.drop_duplicates(keep='first')\n",
        "cols = nuts_site_df.select_dtypes(include=[object]).columns\n",
        "nuts_site_df[cols] = nuts_site_df[cols].apply(lambda x: x.str.normalize('NFKD').str.encode('ascii', errors='ignore').str.decode('utf-8'))\n",
        "nuts_site_df\n",
        "\n",
        "\n",
        "\n"
      ],
      "metadata": {
        "colab": {
          "base_uri": "https://localhost:8080/",
          "height": 424
        },
        "id": "W1lyPzKdFlJm",
        "outputId": "4f497c97-520f-489f-a915-8dfd9dd55fe8"
      },
      "execution_count": 76,
      "outputs": [
        {
          "output_type": "execute_result",
          "data": {
            "text/plain": [
              "     NUTS II            CONCELHO\n",
              "0     CENTRO              Agueda\n",
              "11    CENTRO  Albergaria-a-Velha\n",
              "17    CENTRO              Anadia\n",
              "27     NORTE              Arouca\n",
              "43    CENTRO              Aveiro\n",
              "...      ...                 ...\n",
              "2816   NORTE             Tarouca\n",
              "2823  CENTRO             Tondela\n",
              "2842  CENTRO  Vila Nova de Paiva\n",
              "2847  CENTRO               Viseu\n",
              "2872  CENTRO             Vouzela\n",
              "\n",
              "[278 rows x 2 columns]"
            ],
            "text/html": [
              "\n",
              "  <div id=\"df-6d4e359a-5113-4c51-8bed-052273aa164c\">\n",
              "    <div class=\"colab-df-container\">\n",
              "      <div>\n",
              "<style scoped>\n",
              "    .dataframe tbody tr th:only-of-type {\n",
              "        vertical-align: middle;\n",
              "    }\n",
              "\n",
              "    .dataframe tbody tr th {\n",
              "        vertical-align: top;\n",
              "    }\n",
              "\n",
              "    .dataframe thead th {\n",
              "        text-align: right;\n",
              "    }\n",
              "</style>\n",
              "<table border=\"1\" class=\"dataframe\">\n",
              "  <thead>\n",
              "    <tr style=\"text-align: right;\">\n",
              "      <th></th>\n",
              "      <th>NUTS II</th>\n",
              "      <th>CONCELHO</th>\n",
              "    </tr>\n",
              "  </thead>\n",
              "  <tbody>\n",
              "    <tr>\n",
              "      <th>0</th>\n",
              "      <td>CENTRO</td>\n",
              "      <td>Agueda</td>\n",
              "    </tr>\n",
              "    <tr>\n",
              "      <th>11</th>\n",
              "      <td>CENTRO</td>\n",
              "      <td>Albergaria-a-Velha</td>\n",
              "    </tr>\n",
              "    <tr>\n",
              "      <th>17</th>\n",
              "      <td>CENTRO</td>\n",
              "      <td>Anadia</td>\n",
              "    </tr>\n",
              "    <tr>\n",
              "      <th>27</th>\n",
              "      <td>NORTE</td>\n",
              "      <td>Arouca</td>\n",
              "    </tr>\n",
              "    <tr>\n",
              "      <th>43</th>\n",
              "      <td>CENTRO</td>\n",
              "      <td>Aveiro</td>\n",
              "    </tr>\n",
              "    <tr>\n",
              "      <th>...</th>\n",
              "      <td>...</td>\n",
              "      <td>...</td>\n",
              "    </tr>\n",
              "    <tr>\n",
              "      <th>2816</th>\n",
              "      <td>NORTE</td>\n",
              "      <td>Tarouca</td>\n",
              "    </tr>\n",
              "    <tr>\n",
              "      <th>2823</th>\n",
              "      <td>CENTRO</td>\n",
              "      <td>Tondela</td>\n",
              "    </tr>\n",
              "    <tr>\n",
              "      <th>2842</th>\n",
              "      <td>CENTRO</td>\n",
              "      <td>Vila Nova de Paiva</td>\n",
              "    </tr>\n",
              "    <tr>\n",
              "      <th>2847</th>\n",
              "      <td>CENTRO</td>\n",
              "      <td>Viseu</td>\n",
              "    </tr>\n",
              "    <tr>\n",
              "      <th>2872</th>\n",
              "      <td>CENTRO</td>\n",
              "      <td>Vouzela</td>\n",
              "    </tr>\n",
              "  </tbody>\n",
              "</table>\n",
              "<p>278 rows × 2 columns</p>\n",
              "</div>\n",
              "      <button class=\"colab-df-convert\" onclick=\"convertToInteractive('df-6d4e359a-5113-4c51-8bed-052273aa164c')\"\n",
              "              title=\"Convert this dataframe to an interactive table.\"\n",
              "              style=\"display:none;\">\n",
              "        \n",
              "  <svg xmlns=\"http://www.w3.org/2000/svg\" height=\"24px\"viewBox=\"0 0 24 24\"\n",
              "       width=\"24px\">\n",
              "    <path d=\"M0 0h24v24H0V0z\" fill=\"none\"/>\n",
              "    <path d=\"M18.56 5.44l.94 2.06.94-2.06 2.06-.94-2.06-.94-.94-2.06-.94 2.06-2.06.94zm-11 1L8.5 8.5l.94-2.06 2.06-.94-2.06-.94L8.5 2.5l-.94 2.06-2.06.94zm10 10l.94 2.06.94-2.06 2.06-.94-2.06-.94-.94-2.06-.94 2.06-2.06.94z\"/><path d=\"M17.41 7.96l-1.37-1.37c-.4-.4-.92-.59-1.43-.59-.52 0-1.04.2-1.43.59L10.3 9.45l-7.72 7.72c-.78.78-.78 2.05 0 2.83L4 21.41c.39.39.9.59 1.41.59.51 0 1.02-.2 1.41-.59l7.78-7.78 2.81-2.81c.8-.78.8-2.07 0-2.86zM5.41 20L4 18.59l7.72-7.72 1.47 1.35L5.41 20z\"/>\n",
              "  </svg>\n",
              "      </button>\n",
              "      \n",
              "  <style>\n",
              "    .colab-df-container {\n",
              "      display:flex;\n",
              "      flex-wrap:wrap;\n",
              "      gap: 12px;\n",
              "    }\n",
              "\n",
              "    .colab-df-convert {\n",
              "      background-color: #E8F0FE;\n",
              "      border: none;\n",
              "      border-radius: 50%;\n",
              "      cursor: pointer;\n",
              "      display: none;\n",
              "      fill: #1967D2;\n",
              "      height: 32px;\n",
              "      padding: 0 0 0 0;\n",
              "      width: 32px;\n",
              "    }\n",
              "\n",
              "    .colab-df-convert:hover {\n",
              "      background-color: #E2EBFA;\n",
              "      box-shadow: 0px 1px 2px rgba(60, 64, 67, 0.3), 0px 1px 3px 1px rgba(60, 64, 67, 0.15);\n",
              "      fill: #174EA6;\n",
              "    }\n",
              "\n",
              "    [theme=dark] .colab-df-convert {\n",
              "      background-color: #3B4455;\n",
              "      fill: #D2E3FC;\n",
              "    }\n",
              "\n",
              "    [theme=dark] .colab-df-convert:hover {\n",
              "      background-color: #434B5C;\n",
              "      box-shadow: 0px 1px 3px 1px rgba(0, 0, 0, 0.15);\n",
              "      filter: drop-shadow(0px 1px 2px rgba(0, 0, 0, 0.3));\n",
              "      fill: #FFFFFF;\n",
              "    }\n",
              "  </style>\n",
              "\n",
              "      <script>\n",
              "        const buttonEl =\n",
              "          document.querySelector('#df-6d4e359a-5113-4c51-8bed-052273aa164c button.colab-df-convert');\n",
              "        buttonEl.style.display =\n",
              "          google.colab.kernel.accessAllowed ? 'block' : 'none';\n",
              "\n",
              "        async function convertToInteractive(key) {\n",
              "          const element = document.querySelector('#df-6d4e359a-5113-4c51-8bed-052273aa164c');\n",
              "          const dataTable =\n",
              "            await google.colab.kernel.invokeFunction('convertToInteractive',\n",
              "                                                     [key], {});\n",
              "          if (!dataTable) return;\n",
              "\n",
              "          const docLinkHtml = 'Like what you see? Visit the ' +\n",
              "            '<a target=\"_blank\" href=https://colab.research.google.com/notebooks/data_table.ipynb>data table notebook</a>'\n",
              "            + ' to learn more about interactive tables.';\n",
              "          element.innerHTML = '';\n",
              "          dataTable['output_type'] = 'display_data';\n",
              "          await google.colab.output.renderOutput(dataTable, element);\n",
              "          const docLink = document.createElement('div');\n",
              "          docLink.innerHTML = docLinkHtml;\n",
              "          element.appendChild(docLink);\n",
              "        }\n",
              "      </script>\n",
              "    </div>\n",
              "  </div>\n",
              "  "
            ]
          },
          "metadata": {},
          "execution_count": 76
        }
      ]
    },
    {
      "cell_type": "code",
      "source": [
        "for ind in acidentes_df['Concelho'].index:\n",
        "  concelho =acidentes_df['Concelho'][ind]\n",
        "  zona=nuts_site_df[(nuts_site_df['CONCELHO']==concelho)].values\n",
        "  acidentes_df['Concelho'][ind]=zona[0][0]\n"
      ],
      "metadata": {
        "colab": {
          "base_uri": "https://localhost:8080/",
          "height": 307
        },
        "id": "MBIAPbCZGsM-",
        "outputId": "7ac2b182-763b-415f-83ac-dd7f5c0f0297"
      },
      "execution_count": 77,
      "outputs": [
        {
          "output_type": "stream",
          "name": "stderr",
          "text": [
            "<ipython-input-77-83936394670b>:4: SettingWithCopyWarning: \n",
            "A value is trying to be set on a copy of a slice from a DataFrame\n",
            "\n",
            "See the caveats in the documentation: https://pandas.pydata.org/pandas-docs/stable/user_guide/indexing.html#returning-a-view-versus-a-copy\n",
            "  acidentes_df['Concelho'][ind]=zona[0][0]\n"
          ]
        },
        {
          "output_type": "error",
          "ename": "IndexError",
          "evalue": "ignored",
          "traceback": [
            "\u001b[0;31m---------------------------------------------------------------------------\u001b[0m",
            "\u001b[0;31mIndexError\u001b[0m                                Traceback (most recent call last)",
            "\u001b[0;32m<ipython-input-77-83936394670b>\u001b[0m in \u001b[0;36m<module>\u001b[0;34m\u001b[0m\n\u001b[1;32m      2\u001b[0m   \u001b[0mconcelho\u001b[0m \u001b[0;34m=\u001b[0m\u001b[0macidentes_df\u001b[0m\u001b[0;34m[\u001b[0m\u001b[0;34m'Concelho'\u001b[0m\u001b[0;34m]\u001b[0m\u001b[0;34m[\u001b[0m\u001b[0mind\u001b[0m\u001b[0;34m]\u001b[0m\u001b[0;34m\u001b[0m\u001b[0;34m\u001b[0m\u001b[0m\n\u001b[1;32m      3\u001b[0m   \u001b[0mzona\u001b[0m\u001b[0;34m=\u001b[0m\u001b[0mnuts_site_df\u001b[0m\u001b[0;34m[\u001b[0m\u001b[0;34m(\u001b[0m\u001b[0mnuts_site_df\u001b[0m\u001b[0;34m[\u001b[0m\u001b[0;34m'CONCELHO'\u001b[0m\u001b[0;34m]\u001b[0m\u001b[0;34m==\u001b[0m\u001b[0mconcelho\u001b[0m\u001b[0;34m)\u001b[0m\u001b[0;34m]\u001b[0m\u001b[0;34m.\u001b[0m\u001b[0mvalues\u001b[0m\u001b[0;34m\u001b[0m\u001b[0;34m\u001b[0m\u001b[0m\n\u001b[0;32m----> 4\u001b[0;31m   \u001b[0macidentes_df\u001b[0m\u001b[0;34m[\u001b[0m\u001b[0;34m'Concelho'\u001b[0m\u001b[0;34m]\u001b[0m\u001b[0;34m[\u001b[0m\u001b[0mind\u001b[0m\u001b[0;34m]\u001b[0m\u001b[0;34m=\u001b[0m\u001b[0mzona\u001b[0m\u001b[0;34m[\u001b[0m\u001b[0;36m0\u001b[0m\u001b[0;34m]\u001b[0m\u001b[0;34m[\u001b[0m\u001b[0;36m0\u001b[0m\u001b[0;34m]\u001b[0m\u001b[0;34m\u001b[0m\u001b[0;34m\u001b[0m\u001b[0m\n\u001b[0m",
            "\u001b[0;31mIndexError\u001b[0m: index 0 is out of bounds for axis 0 with size 0"
          ]
        }
      ]
    },
    {
      "cell_type": "code",
      "source": [
        "pd.unique(acidentes_df['Concelho'])\n"
      ],
      "metadata": {
        "id": "b2jvX10GZIo2"
      },
      "execution_count": null,
      "outputs": []
    },
    {
      "cell_type": "code",
      "source": [
        "acidentes_df=acidentes_df.rename(columns={\"Concelho\": \"Zona\"})"
      ],
      "metadata": {
        "id": "YwftXEdtEfdp"
      },
      "execution_count": null,
      "outputs": []
    },
    {
      "cell_type": "code",
      "source": [
        "acidentes_df['Zona'].value_counts().plot(kind = 'barh',rot = 0,color='orange',title=\"Zona\")"
      ],
      "metadata": {
        "id": "GfHUsVc9rlk7"
      },
      "execution_count": null,
      "outputs": []
    },
    {
      "cell_type": "markdown",
      "source": [
        "### Normalização velocidade"
      ],
      "metadata": {
        "id": "hWbDjVWalhfJ"
      }
    },
    {
      "cell_type": "code",
      "source": [
        "\n",
        "velocidades=np.unique(acidentes_df['Velocidade local'])\n",
        "velocidade_local_not_null=acidentes_df[acidentes_df['Velocidade local'].notnull()]\n",
        "velocidade_local_null=acidentes_df[acidentes_df['Velocidade local'].isnull()]\n",
        "velocidade_geral_null=acidentes_df[acidentes_df['Velocidade geral'].isnull()]\n",
        "\n",
        "for ind in velocidade_local_null.index:\n",
        " \n",
        "  if(pd.isnull(acidentes_df['Velocidade geral'][ind]) ):    \n",
        "    tipo_via=acidentes_df['Tipos Vias'][ind]\n",
        "    velocidade=[]\n",
        "    velocidade += [acidentes_df['Velocidade local'][index] for index in velocidade_local_not_null.index if acidentes_df['Tipos Vias'][index] == tipo_via]\n",
        "    mean_velocidade=(np.mean(velocidade))    \n",
        "    closest = min(velocidades, key=lambda x: abs(x-mean_velocidade))\n",
        "    acidentes_df['Velocidade local'][ind]= closest\n",
        "\n",
        "  else:\n",
        "    acidentes_df['Velocidade local'][ind]= acidentes_df['Velocidade geral'][ind]\n",
        "\n",
        "\n"
      ],
      "metadata": {
        "id": "ljaJGvtVNA6K"
      },
      "execution_count": null,
      "outputs": []
    },
    {
      "cell_type": "markdown",
      "source": [
        "### Vizualização 'Características Tecnicas1','Tipos Vias'"
      ],
      "metadata": {
        "id": "JoCvuk4vlxHu"
      }
    },
    {
      "cell_type": "code",
      "source": [
        "groupby = acidentes_df.groupby([ 'Características Tecnicas1','Tipos Vias']).size()\n",
        "print(groupby)"
      ],
      "metadata": {
        "id": "9QdkNAKvKOoC"
      },
      "execution_count": null,
      "outputs": []
    },
    {
      "cell_type": "markdown",
      "source": [
        "### Rename coluna Datahora"
      ],
      "metadata": {
        "id": "eUl1m-Exl2k5"
      }
    },
    {
      "cell_type": "code",
      "source": [
        "acidentes_df['Data']=acidentes_df['Datahora'].str.split(' ').str[0]"
      ],
      "metadata": {
        "id": "uCbsfqvcwLzR"
      },
      "execution_count": null,
      "outputs": []
    },
    {
      "cell_type": "markdown",
      "source": [
        "### Categorização Natureza do acidente"
      ],
      "metadata": {
        "id": "C4Ui-M04l9MY"
      }
    },
    {
      "cell_type": "code",
      "source": [
        "despiste=['Despiste sem dispositivo de retenção', 'Despiste simples','Despiste com colisão com veículo imobil. ou obstáculo','Despiste com capotamento', 'Despiste com dispositivo de retenção',\n",
        "       'Despiste com transposição do dispositivo de retenção lateral',\n",
        "       'Despiste com fuga']\n",
        "colisão=['Colisão traseira com outro veículo em movimento','Colisão lateral com outro veículo em movimento'\n",
        ",'Colisão frontal', 'Colisão com outras situações','Colisão choque em cadeia','Colisão com veiculo ou obstáculo na faixa de rodagem','Colisão com fuga']\n",
        "atropelamento=['Atropelamento de peões', 'Atropelamento de animais',  'Atropelamento com fuga' ]\n",
        "natureza_type=[]\n",
        "for index in acidentes_df.index: \n",
        "  if (acidentes_df['Natureza'][index] in despiste ):    \n",
        "    natureza_type.append('despiste')\n",
        "  elif (acidentes_df['Natureza'][index] in colisão ):\n",
        "   natureza_type.append('colisão')\n",
        "  else:\n",
        "    natureza_type.append('atropelamento')\n",
        "print(len(natureza_type))"
      ],
      "metadata": {
        "id": "h1LDlnz_P43d"
      },
      "execution_count": null,
      "outputs": []
    },
    {
      "cell_type": "code",
      "source": [
        "acidentes_df['Natureza']=natureza_type"
      ],
      "metadata": {
        "id": "QyRtVBDzYEUi"
      },
      "execution_count": null,
      "outputs": []
    },
    {
      "cell_type": "code",
      "source": [
        "acidentes_df['Natureza'].value_counts().plot(kind = 'barh',rot = 0,color='orange',title=\"Natureza\")"
      ],
      "metadata": {
        "id": "zbnFmTSiV_z4"
      },
      "execution_count": null,
      "outputs": []
    },
    {
      "cell_type": "code",
      "source": [
        "acidentes_df['Sentidos'].value_counts().plot(kind = 'barh',rot = 0,color='orange',title=\"Sentidos\")\n",
        "acidentes_df['Obstáculos'].value_counts().plot(kind = 'barh',rot = 0,color='orange',title=\"Obstáculos\")"
      ],
      "metadata": {
        "id": "oZ1iBAU2Y0gv"
      },
      "execution_count": null,
      "outputs": []
    },
    {
      "cell_type": "code",
      "source": [
        "acidentes_df=acidentes_df.drop(['Id. Acidente','Datahora','Dia','Hora','Mês','Entidades Fiscalizadoras','Num. Mortos a 30 dias','Num. Feridos graves a 30 dias','Num. Feridos ligeiros a 30 dias', 'Obstáculos','Características Tecnicas1','Sentidos','Velocidade geral','Latitude GPS','Km','Longitude GPS','Distrito', 'Freguesia', 'Pov. Proxima','Nome arruamento','Cod Via'], axis=1)\n"
      ],
      "metadata": {
        "id": "tMs2qTydMeS4"
      },
      "execution_count": null,
      "outputs": []
    },
    {
      "cell_type": "code",
      "source": [
        "acidentes_df.info()"
      ],
      "metadata": {
        "id": "QUMf2hMTgb0N"
      },
      "execution_count": null,
      "outputs": []
    },
    {
      "cell_type": "code",
      "source": [
        "acidentes_df"
      ],
      "metadata": {
        "id": "vjkbJV-DM3q0"
      },
      "execution_count": null,
      "outputs": []
    },
    {
      "cell_type": "code",
      "source": [
        "acidentes_df.to_csv('acidentes_selected.csv', index=False)"
      ],
      "metadata": {
        "id": "AuSUwOQ_fPXL"
      },
      "execution_count": null,
      "outputs": []
    },
    {
      "cell_type": "markdown",
      "source": [
        "## **Pergunta 3**"
      ],
      "metadata": {
        "id": "j5K_09bIXSex"
      }
    },
    {
      "cell_type": "markdown",
      "source": [
        "3. Verify which characteristics are seasonal (have different average values in different times of the year). Provide graphical views of these seasonal differences;"
      ],
      "metadata": {
        "id": "gECflLXZXXBV"
      }
    },
    {
      "cell_type": "code",
      "source": [
        "acidentes_df=pd.read_csv('acidentes_selected.csv',sep = ',')"
      ],
      "metadata": {
        "id": "5Y6zaS88i9T1",
        "colab": {
          "base_uri": "https://localhost:8080/",
          "height": 328
        },
        "outputId": "8a6b10d0-761a-42a0-a993-94e5cff6a72d"
      },
      "execution_count": 53,
      "outputs": [
        {
          "output_type": "error",
          "ename": "FileNotFoundError",
          "evalue": "ignored",
          "traceback": [
            "\u001b[0;31m---------------------------------------------------------------------------\u001b[0m",
            "\u001b[0;31mFileNotFoundError\u001b[0m                         Traceback (most recent call last)",
            "\u001b[0;32m<ipython-input-53-a9e2c3cdb40f>\u001b[0m in \u001b[0;36m<module>\u001b[0;34m\u001b[0m\n\u001b[0;32m----> 1\u001b[0;31m \u001b[0macidentes_df\u001b[0m\u001b[0;34m=\u001b[0m\u001b[0mpd\u001b[0m\u001b[0;34m.\u001b[0m\u001b[0mread_csv\u001b[0m\u001b[0;34m(\u001b[0m\u001b[0;34m'acidentes_selected.csv'\u001b[0m\u001b[0;34m,\u001b[0m\u001b[0msep\u001b[0m \u001b[0;34m=\u001b[0m \u001b[0;34m','\u001b[0m\u001b[0;34m)\u001b[0m\u001b[0;34m\u001b[0m\u001b[0;34m\u001b[0m\u001b[0m\n\u001b[0m",
            "\u001b[0;32m/usr/local/lib/python3.8/dist-packages/pandas/util/_decorators.py\u001b[0m in \u001b[0;36mwrapper\u001b[0;34m(*args, **kwargs)\u001b[0m\n\u001b[1;32m    309\u001b[0m                     \u001b[0mstacklevel\u001b[0m\u001b[0;34m=\u001b[0m\u001b[0mstacklevel\u001b[0m\u001b[0;34m,\u001b[0m\u001b[0;34m\u001b[0m\u001b[0;34m\u001b[0m\u001b[0m\n\u001b[1;32m    310\u001b[0m                 )\n\u001b[0;32m--> 311\u001b[0;31m             \u001b[0;32mreturn\u001b[0m \u001b[0mfunc\u001b[0m\u001b[0;34m(\u001b[0m\u001b[0;34m*\u001b[0m\u001b[0margs\u001b[0m\u001b[0;34m,\u001b[0m \u001b[0;34m**\u001b[0m\u001b[0mkwargs\u001b[0m\u001b[0;34m)\u001b[0m\u001b[0;34m\u001b[0m\u001b[0;34m\u001b[0m\u001b[0m\n\u001b[0m\u001b[1;32m    312\u001b[0m \u001b[0;34m\u001b[0m\u001b[0m\n\u001b[1;32m    313\u001b[0m         \u001b[0;32mreturn\u001b[0m \u001b[0mwrapper\u001b[0m\u001b[0;34m\u001b[0m\u001b[0;34m\u001b[0m\u001b[0m\n",
            "\u001b[0;32m/usr/local/lib/python3.8/dist-packages/pandas/io/parsers/readers.py\u001b[0m in \u001b[0;36mread_csv\u001b[0;34m(filepath_or_buffer, sep, delimiter, header, names, index_col, usecols, squeeze, prefix, mangle_dupe_cols, dtype, engine, converters, true_values, false_values, skipinitialspace, skiprows, skipfooter, nrows, na_values, keep_default_na, na_filter, verbose, skip_blank_lines, parse_dates, infer_datetime_format, keep_date_col, date_parser, dayfirst, cache_dates, iterator, chunksize, compression, thousands, decimal, lineterminator, quotechar, quoting, doublequote, escapechar, comment, encoding, encoding_errors, dialect, error_bad_lines, warn_bad_lines, on_bad_lines, delim_whitespace, low_memory, memory_map, float_precision, storage_options)\u001b[0m\n\u001b[1;32m    584\u001b[0m     \u001b[0mkwds\u001b[0m\u001b[0;34m.\u001b[0m\u001b[0mupdate\u001b[0m\u001b[0;34m(\u001b[0m\u001b[0mkwds_defaults\u001b[0m\u001b[0;34m)\u001b[0m\u001b[0;34m\u001b[0m\u001b[0;34m\u001b[0m\u001b[0m\n\u001b[1;32m    585\u001b[0m \u001b[0;34m\u001b[0m\u001b[0m\n\u001b[0;32m--> 586\u001b[0;31m     \u001b[0;32mreturn\u001b[0m \u001b[0m_read\u001b[0m\u001b[0;34m(\u001b[0m\u001b[0mfilepath_or_buffer\u001b[0m\u001b[0;34m,\u001b[0m \u001b[0mkwds\u001b[0m\u001b[0;34m)\u001b[0m\u001b[0;34m\u001b[0m\u001b[0;34m\u001b[0m\u001b[0m\n\u001b[0m\u001b[1;32m    587\u001b[0m \u001b[0;34m\u001b[0m\u001b[0m\n\u001b[1;32m    588\u001b[0m \u001b[0;34m\u001b[0m\u001b[0m\n",
            "\u001b[0;32m/usr/local/lib/python3.8/dist-packages/pandas/io/parsers/readers.py\u001b[0m in \u001b[0;36m_read\u001b[0;34m(filepath_or_buffer, kwds)\u001b[0m\n\u001b[1;32m    480\u001b[0m \u001b[0;34m\u001b[0m\u001b[0m\n\u001b[1;32m    481\u001b[0m     \u001b[0;31m# Create the parser.\u001b[0m\u001b[0;34m\u001b[0m\u001b[0;34m\u001b[0m\u001b[0;34m\u001b[0m\u001b[0m\n\u001b[0;32m--> 482\u001b[0;31m     \u001b[0mparser\u001b[0m \u001b[0;34m=\u001b[0m \u001b[0mTextFileReader\u001b[0m\u001b[0;34m(\u001b[0m\u001b[0mfilepath_or_buffer\u001b[0m\u001b[0;34m,\u001b[0m \u001b[0;34m**\u001b[0m\u001b[0mkwds\u001b[0m\u001b[0;34m)\u001b[0m\u001b[0;34m\u001b[0m\u001b[0;34m\u001b[0m\u001b[0m\n\u001b[0m\u001b[1;32m    483\u001b[0m \u001b[0;34m\u001b[0m\u001b[0m\n\u001b[1;32m    484\u001b[0m     \u001b[0;32mif\u001b[0m \u001b[0mchunksize\u001b[0m \u001b[0;32mor\u001b[0m \u001b[0miterator\u001b[0m\u001b[0;34m:\u001b[0m\u001b[0;34m\u001b[0m\u001b[0;34m\u001b[0m\u001b[0m\n",
            "\u001b[0;32m/usr/local/lib/python3.8/dist-packages/pandas/io/parsers/readers.py\u001b[0m in \u001b[0;36m__init__\u001b[0;34m(self, f, engine, **kwds)\u001b[0m\n\u001b[1;32m    809\u001b[0m             \u001b[0mself\u001b[0m\u001b[0;34m.\u001b[0m\u001b[0moptions\u001b[0m\u001b[0;34m[\u001b[0m\u001b[0;34m\"has_index_names\"\u001b[0m\u001b[0;34m]\u001b[0m \u001b[0;34m=\u001b[0m \u001b[0mkwds\u001b[0m\u001b[0;34m[\u001b[0m\u001b[0;34m\"has_index_names\"\u001b[0m\u001b[0;34m]\u001b[0m\u001b[0;34m\u001b[0m\u001b[0;34m\u001b[0m\u001b[0m\n\u001b[1;32m    810\u001b[0m \u001b[0;34m\u001b[0m\u001b[0m\n\u001b[0;32m--> 811\u001b[0;31m         \u001b[0mself\u001b[0m\u001b[0;34m.\u001b[0m\u001b[0m_engine\u001b[0m \u001b[0;34m=\u001b[0m \u001b[0mself\u001b[0m\u001b[0;34m.\u001b[0m\u001b[0m_make_engine\u001b[0m\u001b[0;34m(\u001b[0m\u001b[0mself\u001b[0m\u001b[0;34m.\u001b[0m\u001b[0mengine\u001b[0m\u001b[0;34m)\u001b[0m\u001b[0;34m\u001b[0m\u001b[0;34m\u001b[0m\u001b[0m\n\u001b[0m\u001b[1;32m    812\u001b[0m \u001b[0;34m\u001b[0m\u001b[0m\n\u001b[1;32m    813\u001b[0m     \u001b[0;32mdef\u001b[0m \u001b[0mclose\u001b[0m\u001b[0;34m(\u001b[0m\u001b[0mself\u001b[0m\u001b[0;34m)\u001b[0m\u001b[0;34m:\u001b[0m\u001b[0;34m\u001b[0m\u001b[0;34m\u001b[0m\u001b[0m\n",
            "\u001b[0;32m/usr/local/lib/python3.8/dist-packages/pandas/io/parsers/readers.py\u001b[0m in \u001b[0;36m_make_engine\u001b[0;34m(self, engine)\u001b[0m\n\u001b[1;32m   1038\u001b[0m             )\n\u001b[1;32m   1039\u001b[0m         \u001b[0;31m# error: Too many arguments for \"ParserBase\"\u001b[0m\u001b[0;34m\u001b[0m\u001b[0;34m\u001b[0m\u001b[0;34m\u001b[0m\u001b[0m\n\u001b[0;32m-> 1040\u001b[0;31m         \u001b[0;32mreturn\u001b[0m \u001b[0mmapping\u001b[0m\u001b[0;34m[\u001b[0m\u001b[0mengine\u001b[0m\u001b[0;34m]\u001b[0m\u001b[0;34m(\u001b[0m\u001b[0mself\u001b[0m\u001b[0;34m.\u001b[0m\u001b[0mf\u001b[0m\u001b[0;34m,\u001b[0m \u001b[0;34m**\u001b[0m\u001b[0mself\u001b[0m\u001b[0;34m.\u001b[0m\u001b[0moptions\u001b[0m\u001b[0;34m)\u001b[0m  \u001b[0;31m# type: ignore[call-arg]\u001b[0m\u001b[0;34m\u001b[0m\u001b[0;34m\u001b[0m\u001b[0m\n\u001b[0m\u001b[1;32m   1041\u001b[0m \u001b[0;34m\u001b[0m\u001b[0m\n\u001b[1;32m   1042\u001b[0m     \u001b[0;32mdef\u001b[0m \u001b[0m_failover_to_python\u001b[0m\u001b[0;34m(\u001b[0m\u001b[0mself\u001b[0m\u001b[0;34m)\u001b[0m\u001b[0;34m:\u001b[0m\u001b[0;34m\u001b[0m\u001b[0;34m\u001b[0m\u001b[0m\n",
            "\u001b[0;32m/usr/local/lib/python3.8/dist-packages/pandas/io/parsers/c_parser_wrapper.py\u001b[0m in \u001b[0;36m__init__\u001b[0;34m(self, src, **kwds)\u001b[0m\n\u001b[1;32m     49\u001b[0m \u001b[0;34m\u001b[0m\u001b[0m\n\u001b[1;32m     50\u001b[0m         \u001b[0;31m# open handles\u001b[0m\u001b[0;34m\u001b[0m\u001b[0;34m\u001b[0m\u001b[0;34m\u001b[0m\u001b[0m\n\u001b[0;32m---> 51\u001b[0;31m         \u001b[0mself\u001b[0m\u001b[0;34m.\u001b[0m\u001b[0m_open_handles\u001b[0m\u001b[0;34m(\u001b[0m\u001b[0msrc\u001b[0m\u001b[0;34m,\u001b[0m \u001b[0mkwds\u001b[0m\u001b[0;34m)\u001b[0m\u001b[0;34m\u001b[0m\u001b[0;34m\u001b[0m\u001b[0m\n\u001b[0m\u001b[1;32m     52\u001b[0m         \u001b[0;32massert\u001b[0m \u001b[0mself\u001b[0m\u001b[0;34m.\u001b[0m\u001b[0mhandles\u001b[0m \u001b[0;32mis\u001b[0m \u001b[0;32mnot\u001b[0m \u001b[0;32mNone\u001b[0m\u001b[0;34m\u001b[0m\u001b[0;34m\u001b[0m\u001b[0m\n\u001b[1;32m     53\u001b[0m \u001b[0;34m\u001b[0m\u001b[0m\n",
            "\u001b[0;32m/usr/local/lib/python3.8/dist-packages/pandas/io/parsers/base_parser.py\u001b[0m in \u001b[0;36m_open_handles\u001b[0;34m(self, src, kwds)\u001b[0m\n\u001b[1;32m    220\u001b[0m         \u001b[0mLet\u001b[0m \u001b[0mthe\u001b[0m \u001b[0mreaders\u001b[0m \u001b[0mopen\u001b[0m \u001b[0mIOHandles\u001b[0m \u001b[0mafter\u001b[0m \u001b[0mthey\u001b[0m \u001b[0mare\u001b[0m \u001b[0mdone\u001b[0m \u001b[0;32mwith\u001b[0m \u001b[0mtheir\u001b[0m \u001b[0mpotential\u001b[0m \u001b[0mraises\u001b[0m\u001b[0;34m.\u001b[0m\u001b[0;34m\u001b[0m\u001b[0;34m\u001b[0m\u001b[0m\n\u001b[1;32m    221\u001b[0m         \"\"\"\n\u001b[0;32m--> 222\u001b[0;31m         self.handles = get_handle(\n\u001b[0m\u001b[1;32m    223\u001b[0m             \u001b[0msrc\u001b[0m\u001b[0;34m,\u001b[0m\u001b[0;34m\u001b[0m\u001b[0;34m\u001b[0m\u001b[0m\n\u001b[1;32m    224\u001b[0m             \u001b[0;34m\"r\"\u001b[0m\u001b[0;34m,\u001b[0m\u001b[0;34m\u001b[0m\u001b[0;34m\u001b[0m\u001b[0m\n",
            "\u001b[0;32m/usr/local/lib/python3.8/dist-packages/pandas/io/common.py\u001b[0m in \u001b[0;36mget_handle\u001b[0;34m(path_or_buf, mode, encoding, compression, memory_map, is_text, errors, storage_options)\u001b[0m\n\u001b[1;32m    700\u001b[0m         \u001b[0;32mif\u001b[0m \u001b[0mioargs\u001b[0m\u001b[0;34m.\u001b[0m\u001b[0mencoding\u001b[0m \u001b[0;32mand\u001b[0m \u001b[0;34m\"b\"\u001b[0m \u001b[0;32mnot\u001b[0m \u001b[0;32min\u001b[0m \u001b[0mioargs\u001b[0m\u001b[0;34m.\u001b[0m\u001b[0mmode\u001b[0m\u001b[0;34m:\u001b[0m\u001b[0;34m\u001b[0m\u001b[0;34m\u001b[0m\u001b[0m\n\u001b[1;32m    701\u001b[0m             \u001b[0;31m# Encoding\u001b[0m\u001b[0;34m\u001b[0m\u001b[0;34m\u001b[0m\u001b[0;34m\u001b[0m\u001b[0m\n\u001b[0;32m--> 702\u001b[0;31m             handle = open(\n\u001b[0m\u001b[1;32m    703\u001b[0m                 \u001b[0mhandle\u001b[0m\u001b[0;34m,\u001b[0m\u001b[0;34m\u001b[0m\u001b[0;34m\u001b[0m\u001b[0m\n\u001b[1;32m    704\u001b[0m                 \u001b[0mioargs\u001b[0m\u001b[0;34m.\u001b[0m\u001b[0mmode\u001b[0m\u001b[0;34m,\u001b[0m\u001b[0;34m\u001b[0m\u001b[0;34m\u001b[0m\u001b[0m\n",
            "\u001b[0;31mFileNotFoundError\u001b[0m: [Errno 2] No such file or directory: 'acidentes_selected.csv'"
          ]
        }
      ]
    },
    {
      "cell_type": "code",
      "source": [
        "acidentes_df"
      ],
      "metadata": {
        "id": "sV1mLQplxeXL"
      },
      "execution_count": null,
      "outputs": []
    },
    {
      "cell_type": "code",
      "source": [
        "#estacoes\n",
        "estacoes_df = pd.to_datetime(acidentes_df['Data'], format='%Y:%m:%d')\n",
        "\n",
        "s_spring=pd.to_datetime('20:03',format='%d:%m')\n",
        "s_summer=pd.to_datetime('21:06',format='%d:%m')\n",
        "s_autumn=pd.to_datetime('23:09',format='%d:%m')\n",
        "s_winter=pd.to_datetime('21:12',format='%d:%m')\n",
        "\n",
        "estacoes=[]\n",
        "for index in estacoes_df.index:  \n",
        "  if estacoes_df[index].month > s_spring.month and estacoes_df[index].month < s_summer.month:\n",
        "    estacoes.append('Primavera')\n",
        "  elif estacoes_df[index].month == s_spring.month and estacoes_df[index].month == s_summer.month:\n",
        "    if estacoes_df[index].day >= s_spring.day and estacoes_df[index].day < s_summer.day:\n",
        "      estacoes.append('Primavera')    \n",
        "  elif estacoes_df[index].month > s_summer.month and estacoes_df[index].month < s_autumn.month:\n",
        "    estacoes.append('Verao')\n",
        "  elif estacoes_df[index].month == s_summer.month and estacoes_df[index].month == s_autumn.month:\n",
        "    if estacoes_df[index].day >= s_summer.day and estacoes_df[index].day < s_autumn.day:\n",
        "      estacoes.append('Verao')\n",
        "  elif estacoes_df[index].month > s_autumn.month and estacoes_df[index].month < s_winter.month:\n",
        "    estacoes.append('Outono')\n",
        "  elif estacoes_df[index].month == s_autumn.month and estacoes_df[index].month == s_winter.month:\n",
        "    if estacoes_df[index].day >= s_autumn.day and estacoes_df[index].day < s_winter.day:\n",
        "      estacoes.append('Outono')\n",
        "  else:\n",
        "     estacoes.append('Inervno')\n",
        "\n",
        "\n",
        "\n",
        "\n",
        "\n"
      ],
      "metadata": {
        "id": "DM0ilLXg6W4O"
      },
      "execution_count": null,
      "outputs": []
    },
    {
      "cell_type": "code",
      "source": [
        "estacoes_dict= dict((i, estacoes.count(i)) for i in estacoes)\n",
        "plt.bar(estacoes_dict.keys(), estacoes_dict.values(),   width = 0.8, color = 'orange')\n",
        "plt.title(\"N acidentes por estação do ano\")\n"
      ],
      "metadata": {
        "id": "sv0-4a05-4cy"
      },
      "execution_count": null,
      "outputs": []
    },
    {
      "cell_type": "code",
      "source": [
        "#Periodo do dia\n",
        "\n",
        "acidentes_df['Periodo do Dia'].value_counts().plot(kind = 'bar',rot = 0,color='orange',title=\"Periodos do Dia\")"
      ],
      "metadata": {
        "id": "tx-AnLI7DGKH"
      },
      "execution_count": null,
      "outputs": []
    },
    {
      "cell_type": "code",
      "source": [
        "#dias da semana\n",
        "acidentes_df['Dia da Semana'].value_counts().plot(kind = 'barh',rot = 0,color='orange',title=\"Dia da Semana\")"
      ],
      "metadata": {
        "id": "kma686kEDwzx"
      },
      "execution_count": null,
      "outputs": []
    },
    {
      "cell_type": "code",
      "source": [
        "ano_groupby=acidentes_df.groupby(acidentes_df['Data'].str.split(':').str[0])\n",
        "df = pd.DataFrame({'Ano':ano_groupby.groups.keys(), 'N acidentens':ano_groupby.size()})\n",
        "ax = df.plot.bar(x='Ano', y='N acidentens', rot=0,figsize=(10, 7),color='orange')"
      ],
      "metadata": {
        "id": "vhTdaUSZ4iwB"
      },
      "execution_count": null,
      "outputs": []
    },
    {
      "cell_type": "markdown",
      "source": [
        "## **Pergunta 4**"
      ],
      "metadata": {
        "id": "yRJYBPui-uef"
      }
    },
    {
      "cell_type": "markdown",
      "source": [
        "4. Verify which characteristics are unbalanced (have much more elements of one class\n",
        "than the others). Present graphical views of the distributions of some unbalanced\n",
        "characteristics you deem relevant for the problem;"
      ],
      "metadata": {
        "id": "xhlZLAwK-yoF"
      }
    },
    {
      "cell_type": "code",
      "source": [
        "acidentes_df.columns"
      ],
      "metadata": {
        "colab": {
          "base_uri": "https://localhost:8080/"
        },
        "id": "dkonH96q-8bN",
        "outputId": "09ee6e0f-c9e3-48d6-a5e0-d3dc135520d6"
      },
      "execution_count": 39,
      "outputs": [
        {
          "output_type": "execute_result",
          "data": {
            "text/plain": [
              "Index(['Id. Acidente', 'Datahora', 'Dia', 'Mês', 'Hora',\n",
              "       'Entidades Fiscalizadoras', 'Velocidade local', 'Velocidade geral',\n",
              "       'Dia da Semana', 'Latitude GPS', 'Longitude GPS',\n",
              "       'Num. Mortos a 30 dias', 'Num. Feridos graves a 30 dias',\n",
              "       'Num. Feridos ligeiros a 30 dias', 'Características Tecnicas1',\n",
              "       'Cond Aderência', 'Distrito', 'Concelho', 'Freguesia', 'Pov. Proxima',\n",
              "       'Nome arruamento', 'Tipos Vias', 'Cod Via', 'Estado Conservação', 'Km',\n",
              "       'Factores Atmosféricos', 'Reg Circulação1', 'Intersecção Vias',\n",
              "       'Localizações', 'Luminosidade', 'Marca Via', 'Natureza', 'Obras Arte',\n",
              "       'Obstáculos', 'Sentidos', 'Sinais', 'Sinais Luminosos', 'Tipo Piso',\n",
              "       'Traçado 1', 'Traçado 2', 'Traçado 3', 'Traçado 4', 'Via Trânsito',\n",
              "       'Periodo do Dia', 'Tipo de Acidente'],\n",
              "      dtype='object')"
            ]
          },
          "metadata": {},
          "execution_count": 39
        }
      ]
    },
    {
      "cell_type": "code",
      "source": [
        "atributos = ['Velocidade local',  'Cond Aderência', 'Zona',\n",
        "       'Tipos Vias', 'Estado Conservação', 'Factores Atmosféricos',\n",
        "       'Reg Circulação1', 'Intersecção Vias', 'Localizações', 'Luminosidade',\n",
        "       'Marca Via', 'Natureza', 'Obras Arte',\n",
        "       'Sinais', 'Sinais Luminosos', 'Tipo Piso', 'Traçado 1', 'Traçado 2',\n",
        "       'Traçado 3', 'Traçado 4', 'Via Trânsito', 'Periodo do Dia',\n",
        "       'Tipo de Acidente' ]\n",
        "\n",
        "fig, axes = plt.subplots(nrows = 5,ncols = 5,figsize = (30,20))\n",
        "fig.tight_layout(pad=10.0)\n",
        "for i, item in enumerate(atributos):\n",
        "    if i < 5:\n",
        "        ax = acidentes_df[item].value_counts().plot(kind = 'barh',ax=axes[0,i],rot = 0,color='orange')\n",
        "        \n",
        "    elif i >=5 and i < 10:\n",
        "        ax = acidentes_df[item].value_counts().plot(kind = 'barh',ax=axes[1,i-5],rot = 0, color='orange')\n",
        "        \n",
        "    elif i >=10 and i < 15:\n",
        "        ax = acidentes_df[item].value_counts().plot(kind = 'barh',ax=axes[2,i-10],rot = 0, color='orange')\n",
        "    elif i >=15 and i < 20:\n",
        "        \n",
        "        ax = acidentes_df[item].value_counts().plot(kind = 'barh',ax=axes[3,i-15],rot = 0, color='orange')\n",
        "    elif i >=20 and i < 25:\n",
        "        ax = acidentes_df[item].value_counts().plot(kind = 'barh',ax=axes[4,i-20],rot = 0, color='orange')\n",
        "   \n",
        "    ax.set_title(item)\n",
        "\n",
        "    #unbalanced  'Cond Aderência','Obstáculos','Obras Arte', 'Tipo Piso','Sinais Luminosos'"
      ],
      "metadata": {
        "colab": {
          "base_uri": "https://localhost:8080/",
          "height": 1000
        },
        "id": "-7I2Bc2u-z3n",
        "outputId": "42d4be59-e775-4627-e806-95f63079a19d"
      },
      "execution_count": 40,
      "outputs": [
        {
          "output_type": "error",
          "ename": "KeyError",
          "evalue": "ignored",
          "traceback": [
            "\u001b[0;31m---------------------------------------------------------------------------\u001b[0m",
            "\u001b[0;31mKeyError\u001b[0m                                  Traceback (most recent call last)",
            "\u001b[0;32m/usr/local/lib/python3.8/dist-packages/pandas/core/indexes/base.py\u001b[0m in \u001b[0;36mget_loc\u001b[0;34m(self, key, method, tolerance)\u001b[0m\n\u001b[1;32m   3360\u001b[0m             \u001b[0;32mtry\u001b[0m\u001b[0;34m:\u001b[0m\u001b[0;34m\u001b[0m\u001b[0;34m\u001b[0m\u001b[0m\n\u001b[0;32m-> 3361\u001b[0;31m                 \u001b[0;32mreturn\u001b[0m \u001b[0mself\u001b[0m\u001b[0;34m.\u001b[0m\u001b[0m_engine\u001b[0m\u001b[0;34m.\u001b[0m\u001b[0mget_loc\u001b[0m\u001b[0;34m(\u001b[0m\u001b[0mcasted_key\u001b[0m\u001b[0;34m)\u001b[0m\u001b[0;34m\u001b[0m\u001b[0;34m\u001b[0m\u001b[0m\n\u001b[0m\u001b[1;32m   3362\u001b[0m             \u001b[0;32mexcept\u001b[0m \u001b[0mKeyError\u001b[0m \u001b[0;32mas\u001b[0m \u001b[0merr\u001b[0m\u001b[0;34m:\u001b[0m\u001b[0;34m\u001b[0m\u001b[0;34m\u001b[0m\u001b[0m\n",
            "\u001b[0;32m/usr/local/lib/python3.8/dist-packages/pandas/_libs/index.pyx\u001b[0m in \u001b[0;36mpandas._libs.index.IndexEngine.get_loc\u001b[0;34m()\u001b[0m\n",
            "\u001b[0;32m/usr/local/lib/python3.8/dist-packages/pandas/_libs/index.pyx\u001b[0m in \u001b[0;36mpandas._libs.index.IndexEngine.get_loc\u001b[0;34m()\u001b[0m\n",
            "\u001b[0;32mpandas/_libs/hashtable_class_helper.pxi\u001b[0m in \u001b[0;36mpandas._libs.hashtable.PyObjectHashTable.get_item\u001b[0;34m()\u001b[0m\n",
            "\u001b[0;32mpandas/_libs/hashtable_class_helper.pxi\u001b[0m in \u001b[0;36mpandas._libs.hashtable.PyObjectHashTable.get_item\u001b[0;34m()\u001b[0m\n",
            "\u001b[0;31mKeyError\u001b[0m: 'Zona'",
            "\nThe above exception was the direct cause of the following exception:\n",
            "\u001b[0;31mKeyError\u001b[0m                                  Traceback (most recent call last)",
            "\u001b[0;32m<ipython-input-40-cc9b464b132f>\u001b[0m in \u001b[0;36m<module>\u001b[0;34m\u001b[0m\n\u001b[1;32m     11\u001b[0m \u001b[0;32mfor\u001b[0m \u001b[0mi\u001b[0m\u001b[0;34m,\u001b[0m \u001b[0mitem\u001b[0m \u001b[0;32min\u001b[0m \u001b[0menumerate\u001b[0m\u001b[0;34m(\u001b[0m\u001b[0matributos\u001b[0m\u001b[0;34m)\u001b[0m\u001b[0;34m:\u001b[0m\u001b[0;34m\u001b[0m\u001b[0;34m\u001b[0m\u001b[0m\n\u001b[1;32m     12\u001b[0m     \u001b[0;32mif\u001b[0m \u001b[0mi\u001b[0m \u001b[0;34m<\u001b[0m \u001b[0;36m5\u001b[0m\u001b[0;34m:\u001b[0m\u001b[0;34m\u001b[0m\u001b[0;34m\u001b[0m\u001b[0m\n\u001b[0;32m---> 13\u001b[0;31m         \u001b[0max\u001b[0m \u001b[0;34m=\u001b[0m \u001b[0macidentes_df\u001b[0m\u001b[0;34m[\u001b[0m\u001b[0mitem\u001b[0m\u001b[0;34m]\u001b[0m\u001b[0;34m.\u001b[0m\u001b[0mvalue_counts\u001b[0m\u001b[0;34m(\u001b[0m\u001b[0;34m)\u001b[0m\u001b[0;34m.\u001b[0m\u001b[0mplot\u001b[0m\u001b[0;34m(\u001b[0m\u001b[0mkind\u001b[0m \u001b[0;34m=\u001b[0m \u001b[0;34m'barh'\u001b[0m\u001b[0;34m,\u001b[0m\u001b[0max\u001b[0m\u001b[0;34m=\u001b[0m\u001b[0maxes\u001b[0m\u001b[0;34m[\u001b[0m\u001b[0;36m0\u001b[0m\u001b[0;34m,\u001b[0m\u001b[0mi\u001b[0m\u001b[0;34m]\u001b[0m\u001b[0;34m,\u001b[0m\u001b[0mrot\u001b[0m \u001b[0;34m=\u001b[0m \u001b[0;36m0\u001b[0m\u001b[0;34m,\u001b[0m\u001b[0mcolor\u001b[0m\u001b[0;34m=\u001b[0m\u001b[0;34m'orange'\u001b[0m\u001b[0;34m)\u001b[0m\u001b[0;34m\u001b[0m\u001b[0;34m\u001b[0m\u001b[0m\n\u001b[0m\u001b[1;32m     14\u001b[0m \u001b[0;34m\u001b[0m\u001b[0m\n\u001b[1;32m     15\u001b[0m     \u001b[0;32melif\u001b[0m \u001b[0mi\u001b[0m \u001b[0;34m>=\u001b[0m\u001b[0;36m5\u001b[0m \u001b[0;32mand\u001b[0m \u001b[0mi\u001b[0m \u001b[0;34m<\u001b[0m \u001b[0;36m10\u001b[0m\u001b[0;34m:\u001b[0m\u001b[0;34m\u001b[0m\u001b[0;34m\u001b[0m\u001b[0m\n",
            "\u001b[0;32m/usr/local/lib/python3.8/dist-packages/pandas/core/frame.py\u001b[0m in \u001b[0;36m__getitem__\u001b[0;34m(self, key)\u001b[0m\n\u001b[1;32m   3456\u001b[0m             \u001b[0;32mif\u001b[0m \u001b[0mself\u001b[0m\u001b[0;34m.\u001b[0m\u001b[0mcolumns\u001b[0m\u001b[0;34m.\u001b[0m\u001b[0mnlevels\u001b[0m \u001b[0;34m>\u001b[0m \u001b[0;36m1\u001b[0m\u001b[0;34m:\u001b[0m\u001b[0;34m\u001b[0m\u001b[0;34m\u001b[0m\u001b[0m\n\u001b[1;32m   3457\u001b[0m                 \u001b[0;32mreturn\u001b[0m \u001b[0mself\u001b[0m\u001b[0;34m.\u001b[0m\u001b[0m_getitem_multilevel\u001b[0m\u001b[0;34m(\u001b[0m\u001b[0mkey\u001b[0m\u001b[0;34m)\u001b[0m\u001b[0;34m\u001b[0m\u001b[0;34m\u001b[0m\u001b[0m\n\u001b[0;32m-> 3458\u001b[0;31m             \u001b[0mindexer\u001b[0m \u001b[0;34m=\u001b[0m \u001b[0mself\u001b[0m\u001b[0;34m.\u001b[0m\u001b[0mcolumns\u001b[0m\u001b[0;34m.\u001b[0m\u001b[0mget_loc\u001b[0m\u001b[0;34m(\u001b[0m\u001b[0mkey\u001b[0m\u001b[0;34m)\u001b[0m\u001b[0;34m\u001b[0m\u001b[0;34m\u001b[0m\u001b[0m\n\u001b[0m\u001b[1;32m   3459\u001b[0m             \u001b[0;32mif\u001b[0m \u001b[0mis_integer\u001b[0m\u001b[0;34m(\u001b[0m\u001b[0mindexer\u001b[0m\u001b[0;34m)\u001b[0m\u001b[0;34m:\u001b[0m\u001b[0;34m\u001b[0m\u001b[0;34m\u001b[0m\u001b[0m\n\u001b[1;32m   3460\u001b[0m                 \u001b[0mindexer\u001b[0m \u001b[0;34m=\u001b[0m \u001b[0;34m[\u001b[0m\u001b[0mindexer\u001b[0m\u001b[0;34m]\u001b[0m\u001b[0;34m\u001b[0m\u001b[0;34m\u001b[0m\u001b[0m\n",
            "\u001b[0;32m/usr/local/lib/python3.8/dist-packages/pandas/core/indexes/base.py\u001b[0m in \u001b[0;36mget_loc\u001b[0;34m(self, key, method, tolerance)\u001b[0m\n\u001b[1;32m   3361\u001b[0m                 \u001b[0;32mreturn\u001b[0m \u001b[0mself\u001b[0m\u001b[0;34m.\u001b[0m\u001b[0m_engine\u001b[0m\u001b[0;34m.\u001b[0m\u001b[0mget_loc\u001b[0m\u001b[0;34m(\u001b[0m\u001b[0mcasted_key\u001b[0m\u001b[0;34m)\u001b[0m\u001b[0;34m\u001b[0m\u001b[0;34m\u001b[0m\u001b[0m\n\u001b[1;32m   3362\u001b[0m             \u001b[0;32mexcept\u001b[0m \u001b[0mKeyError\u001b[0m \u001b[0;32mas\u001b[0m \u001b[0merr\u001b[0m\u001b[0;34m:\u001b[0m\u001b[0;34m\u001b[0m\u001b[0;34m\u001b[0m\u001b[0m\n\u001b[0;32m-> 3363\u001b[0;31m                 \u001b[0;32mraise\u001b[0m \u001b[0mKeyError\u001b[0m\u001b[0;34m(\u001b[0m\u001b[0mkey\u001b[0m\u001b[0;34m)\u001b[0m \u001b[0;32mfrom\u001b[0m \u001b[0merr\u001b[0m\u001b[0;34m\u001b[0m\u001b[0;34m\u001b[0m\u001b[0m\n\u001b[0m\u001b[1;32m   3364\u001b[0m \u001b[0;34m\u001b[0m\u001b[0m\n\u001b[1;32m   3365\u001b[0m         \u001b[0;32mif\u001b[0m \u001b[0mis_scalar\u001b[0m\u001b[0;34m(\u001b[0m\u001b[0mkey\u001b[0m\u001b[0;34m)\u001b[0m \u001b[0;32mand\u001b[0m \u001b[0misna\u001b[0m\u001b[0;34m(\u001b[0m\u001b[0mkey\u001b[0m\u001b[0;34m)\u001b[0m \u001b[0;32mand\u001b[0m \u001b[0;32mnot\u001b[0m \u001b[0mself\u001b[0m\u001b[0;34m.\u001b[0m\u001b[0mhasnans\u001b[0m\u001b[0;34m:\u001b[0m\u001b[0;34m\u001b[0m\u001b[0;34m\u001b[0m\u001b[0m\n",
            "\u001b[0;31mKeyError\u001b[0m: 'Zona'"
          ]
        },
        {
          "output_type": "display_data",
          "data": {
            "text/plain": [
              "<Figure size 2160x1440 with 25 Axes>"
            ],
            "image/png": "[encoded data removed]"
          },
          "metadata": {
            "needs_background": "light"
          }
        }
      ]
    },
    {
      "cell_type": "markdown",
      "source": [
        "## **Pergunta 5**"
      ],
      "metadata": {
        "id": "eMwoJz0jWJeU"
      }
    },
    {
      "cell_type": "markdown",
      "source": [
        "5. Calculate correlations between variables and explain any high correlations found;\n",
        "https://www.statology.org/correlation-between-categorical-variables/\n",
        "\n",
        "Categoricas:\n",
        "https://www.statstest.com/cramers-v-2/\n",
        "\n",
        "**Cramer’s V**\n",
        "\n",
        "The analysis will result in a Cramer’s V value and a p-value. Cramer’s V ranges from 0 to 1, where 0 indicates no relationship and 1 indicates perfect association\n",
        "\n",
        "The p-value represents the chance of seeing our results if there was no actual relationship between our variables. A p-value less than or equal to 0.05 means that our result is statistically significant and we can trust that the difference is not due to chance alone."
      ],
      "metadata": {
        "id": "cA44ClwJWNHr"
      }
    },
    {
      "cell_type": "code",
      "source": [
        "\n",
        "def cramer_correl(feature1, feature2):\n",
        "  l = acidentes_df.groupby([feature1, feature2]).size().unstack(fill_value=0)\n",
        "  data = l.values\n",
        "  X2 = stats.chi2_contingency(data, correction=False)[0]\n",
        "  n = np.sum(data)\n",
        "  minDim = min(data.shape)-1\n",
        "  V = np.sqrt((X2/n) / minDim)\n",
        "  return V\n",
        "\n"
      ],
      "metadata": {
        "id": "fja1om7Nnv8l"
      },
      "execution_count": 12,
      "outputs": []
    },
    {
      "cell_type": "code",
      "source": [
        "def cramer_matrix(acidentes_continuous):\n",
        "  matrix=[]\n",
        "  for  x in range(len(acidentes_continuous.columns)):\n",
        "    line = []\n",
        "    for  y in range(len(acidentes_continuous.columns)):      \n",
        "      line.append(round(cramer_correl(acidentes_continuous.columns[x], acidentes_continuous.columns[y]),2))\n",
        "    matrix.append(line)\n",
        "  return matrix \n"
      ],
      "metadata": {
        "id": "o7aJTzwjZJT2"
      },
      "execution_count": 13,
      "outputs": []
    },
    {
      "cell_type": "code",
      "source": [
        "df = pd.DataFrame(\n",
        "   {\n",
        "      \"x\": [5, 2, 1, 9],\n",
        "      \"y\": [4, 1, 5, 10],\n",
        "      \"z\": [4, 1, 5, 0]\n",
        "   }\n",
        ")\n",
        "print(\"Input DataFrame is:\", df)\n",
        "\n",
        "col=['y','z']\n",
        "df1 =  df[df.columns.difference(['y','x'])]\n",
        "\n",
        "print( \"DataFrame without Column-y: \", df1)"
      ],
      "metadata": {
        "id": "tzO1cPRM4HTd",
        "outputId": "065bb39e-229f-4164-a6b3-ac95174e11a7",
        "colab": {
          "base_uri": "https://localhost:8080/"
        }
      },
      "execution_count": 19,
      "outputs": [
        {
          "output_type": "stream",
          "name": "stdout",
          "text": [
            "Input DataFrame is:    x   y  z\n",
            "0  5   4  4\n",
            "1  2   1  1\n",
            "2  1   5  5\n",
            "3  9  10  0\n",
            "DataFrame without Column-y:     z\n",
            "0  4\n",
            "1  1\n",
            "2  5\n",
            "3  0\n"
          ]
        }
      ]
    },
    {
      "cell_type": "code",
      "source": [
        "acidentes_df.columns"
      ],
      "metadata": {
        "id": "UWarzUX35CYR",
        "outputId": "43c62383-8eef-4961-ad47-f686343c79cb",
        "colab": {
          "base_uri": "https://localhost:8080/"
        }
      },
      "execution_count": 22,
      "outputs": [
        {
          "output_type": "execute_result",
          "data": {
            "text/plain": [
              "Index(['Id. Acidente', 'Datahora', 'Dia', 'Mês', 'Hora',\n",
              "       'Entidades Fiscalizadoras', 'Velocidade local', 'Velocidade geral',\n",
              "       'Dia da Semana', 'Latitude GPS', 'Longitude GPS',\n",
              "       'Num. Mortos a 30 dias', 'Num. Feridos graves a 30 dias',\n",
              "       'Num. Feridos ligeiros a 30 dias', 'Características Tecnicas1',\n",
              "       'Cond Aderência', 'Distrito', 'Concelho', 'Freguesia', 'Pov. Proxima',\n",
              "       'Nome arruamento', 'Tipos Vias', 'Cod Via', 'Estado Conservação', 'Km',\n",
              "       'Factores Atmosféricos', 'Reg Circulação1', 'Intersecção Vias',\n",
              "       'Localizações', 'Luminosidade', 'Marca Via', 'Natureza', 'Obras Arte',\n",
              "       'Obstáculos', 'Sentidos', 'Sinais', 'Sinais Luminosos', 'Tipo Piso',\n",
              "       'Traçado 1', 'Traçado 2', 'Traçado 3', 'Traçado 4', 'Via Trânsito',\n",
              "       'Periodo do Dia', 'Tipo de Acidente'],\n",
              "      dtype='object')"
            ]
          },
          "metadata": {},
          "execution_count": 22
        }
      ]
    },
    {
      "cell_type": "code",
      "source": [
        "acidentes_continuous = acidentes_df[acidentes_df.columns.difference(['Velocidade local','Data'])]\n",
        "print(len(acidentes_continuous.columns), len(acidentes_df.columns))\n",
        "m = cramer_matrix(acidentes_continuous)\n",
        "dd = pd.DataFrame(m, index = acidentes_df.columns, columns = acidentes_df.columns)"
      ],
      "metadata": {
        "id": "Efwq26baAU0C",
        "colab": {
          "base_uri": "https://localhost:8080/",
          "height": 415
        },
        "outputId": "e850c90e-799a-4461-ba6c-14b7ef68e78c"
      },
      "execution_count": 21,
      "outputs": [
        {
          "output_type": "stream",
          "name": "stdout",
          "text": [
            "44 45\n"
          ]
        },
        {
          "output_type": "stream",
          "name": "stderr",
          "text": [
            "<ipython-input-12-75c90678ac49>:7: RuntimeWarning: invalid value encountered in double_scalars\n",
            "  V = np.sqrt((X2/n) / minDim)\n"
          ]
        },
        {
          "output_type": "error",
          "ename": "ValueError",
          "evalue": "ignored",
          "traceback": [
            "\u001b[0;31m---------------------------------------------------------------------------\u001b[0m",
            "\u001b[0;31mValueError\u001b[0m                                Traceback (most recent call last)",
            "\u001b[0;32m<ipython-input-21-ed6b371b6ad9>\u001b[0m in \u001b[0;36m<module>\u001b[0;34m\u001b[0m\n\u001b[1;32m      1\u001b[0m \u001b[0macidentes_continuous\u001b[0m \u001b[0;34m=\u001b[0m \u001b[0macidentes_df\u001b[0m\u001b[0;34m[\u001b[0m\u001b[0macidentes_df\u001b[0m\u001b[0;34m.\u001b[0m\u001b[0mcolumns\u001b[0m\u001b[0;34m.\u001b[0m\u001b[0mdifference\u001b[0m\u001b[0;34m(\u001b[0m\u001b[0;34m[\u001b[0m\u001b[0;34m'Velocidade local'\u001b[0m\u001b[0;34m,\u001b[0m\u001b[0;34m'Data'\u001b[0m\u001b[0;34m]\u001b[0m\u001b[0;34m)\u001b[0m\u001b[0;34m]\u001b[0m\u001b[0;34m\u001b[0m\u001b[0;34m\u001b[0m\u001b[0m\n\u001b[1;32m      2\u001b[0m \u001b[0mprint\u001b[0m\u001b[0;34m(\u001b[0m\u001b[0mlen\u001b[0m\u001b[0;34m(\u001b[0m\u001b[0macidentes_continuous\u001b[0m\u001b[0;34m.\u001b[0m\u001b[0mcolumns\u001b[0m\u001b[0;34m)\u001b[0m\u001b[0;34m,\u001b[0m \u001b[0mlen\u001b[0m\u001b[0;34m(\u001b[0m\u001b[0macidentes_df\u001b[0m\u001b[0;34m.\u001b[0m\u001b[0mcolumns\u001b[0m\u001b[0;34m)\u001b[0m\u001b[0;34m)\u001b[0m\u001b[0;34m\u001b[0m\u001b[0;34m\u001b[0m\u001b[0m\n\u001b[0;32m----> 3\u001b[0;31m \u001b[0mm\u001b[0m \u001b[0;34m=\u001b[0m \u001b[0mcramer_matrix\u001b[0m\u001b[0;34m(\u001b[0m\u001b[0macidentes_continuous\u001b[0m\u001b[0;34m)\u001b[0m\u001b[0;34m\u001b[0m\u001b[0;34m\u001b[0m\u001b[0m\n\u001b[0m\u001b[1;32m      4\u001b[0m \u001b[0mdd\u001b[0m \u001b[0;34m=\u001b[0m \u001b[0mpd\u001b[0m\u001b[0;34m.\u001b[0m\u001b[0mDataFrame\u001b[0m\u001b[0;34m(\u001b[0m\u001b[0mm\u001b[0m\u001b[0;34m,\u001b[0m \u001b[0mindex\u001b[0m \u001b[0;34m=\u001b[0m \u001b[0macidentes_df\u001b[0m\u001b[0;34m.\u001b[0m\u001b[0mcolumns\u001b[0m\u001b[0;34m,\u001b[0m \u001b[0mcolumns\u001b[0m \u001b[0;34m=\u001b[0m \u001b[0macidentes_df\u001b[0m\u001b[0;34m.\u001b[0m\u001b[0mcolumns\u001b[0m\u001b[0;34m)\u001b[0m\u001b[0;34m\u001b[0m\u001b[0;34m\u001b[0m\u001b[0m\n",
            "\u001b[0;32m<ipython-input-13-ef5e85c2d3cc>\u001b[0m in \u001b[0;36mcramer_matrix\u001b[0;34m(data)\u001b[0m\n\u001b[1;32m      4\u001b[0m     \u001b[0mline\u001b[0m \u001b[0;34m=\u001b[0m \u001b[0;34m[\u001b[0m\u001b[0;34m]\u001b[0m\u001b[0;34m\u001b[0m\u001b[0;34m\u001b[0m\u001b[0m\n\u001b[1;32m      5\u001b[0m     \u001b[0;32mfor\u001b[0m  \u001b[0my\u001b[0m \u001b[0;32min\u001b[0m \u001b[0mrange\u001b[0m\u001b[0;34m(\u001b[0m\u001b[0mlen\u001b[0m\u001b[0;34m(\u001b[0m\u001b[0mdata\u001b[0m\u001b[0;34m.\u001b[0m\u001b[0mcolumns\u001b[0m\u001b[0;34m)\u001b[0m\u001b[0;34m)\u001b[0m\u001b[0;34m:\u001b[0m\u001b[0;34m\u001b[0m\u001b[0;34m\u001b[0m\u001b[0m\n\u001b[0;32m----> 6\u001b[0;31m       \u001b[0mline\u001b[0m\u001b[0;34m.\u001b[0m\u001b[0mappend\u001b[0m\u001b[0;34m(\u001b[0m\u001b[0mround\u001b[0m\u001b[0;34m(\u001b[0m\u001b[0mcramer_correl\u001b[0m\u001b[0;34m(\u001b[0m\u001b[0mdata\u001b[0m\u001b[0;34m.\u001b[0m\u001b[0mcolumns\u001b[0m\u001b[0;34m[\u001b[0m\u001b[0mx\u001b[0m\u001b[0;34m]\u001b[0m\u001b[0;34m,\u001b[0m \u001b[0mdata\u001b[0m\u001b[0;34m.\u001b[0m\u001b[0mcolumns\u001b[0m\u001b[0;34m[\u001b[0m\u001b[0my\u001b[0m\u001b[0;34m]\u001b[0m\u001b[0;34m)\u001b[0m\u001b[0;34m,\u001b[0m\u001b[0;36m2\u001b[0m\u001b[0;34m)\u001b[0m\u001b[0;34m)\u001b[0m\u001b[0;34m\u001b[0m\u001b[0;34m\u001b[0m\u001b[0m\n\u001b[0m\u001b[1;32m      7\u001b[0m     \u001b[0mmatrix\u001b[0m\u001b[0;34m.\u001b[0m\u001b[0mappend\u001b[0m\u001b[0;34m(\u001b[0m\u001b[0mline\u001b[0m\u001b[0;34m)\u001b[0m\u001b[0;34m\u001b[0m\u001b[0;34m\u001b[0m\u001b[0m\n\u001b[1;32m      8\u001b[0m   \u001b[0;32mreturn\u001b[0m \u001b[0mmatrix\u001b[0m\u001b[0;34m\u001b[0m\u001b[0;34m\u001b[0m\u001b[0m\n",
            "\u001b[0;32m<ipython-input-12-75c90678ac49>\u001b[0m in \u001b[0;36mcramer_correl\u001b[0;34m(feature1, feature2)\u001b[0m\n\u001b[1;32m      2\u001b[0m   \u001b[0ml\u001b[0m \u001b[0;34m=\u001b[0m \u001b[0macidentes_df\u001b[0m\u001b[0;34m.\u001b[0m\u001b[0mgroupby\u001b[0m\u001b[0;34m(\u001b[0m\u001b[0;34m[\u001b[0m\u001b[0mfeature1\u001b[0m\u001b[0;34m,\u001b[0m \u001b[0mfeature2\u001b[0m\u001b[0;34m]\u001b[0m\u001b[0;34m)\u001b[0m\u001b[0;34m.\u001b[0m\u001b[0msize\u001b[0m\u001b[0;34m(\u001b[0m\u001b[0;34m)\u001b[0m\u001b[0;34m.\u001b[0m\u001b[0munstack\u001b[0m\u001b[0;34m(\u001b[0m\u001b[0mfill_value\u001b[0m\u001b[0;34m=\u001b[0m\u001b[0;36m0\u001b[0m\u001b[0;34m)\u001b[0m\u001b[0;34m\u001b[0m\u001b[0;34m\u001b[0m\u001b[0m\n\u001b[1;32m      3\u001b[0m   \u001b[0mdata\u001b[0m \u001b[0;34m=\u001b[0m \u001b[0ml\u001b[0m\u001b[0;34m.\u001b[0m\u001b[0mvalues\u001b[0m\u001b[0;34m\u001b[0m\u001b[0;34m\u001b[0m\u001b[0m\n\u001b[0;32m----> 4\u001b[0;31m   \u001b[0mX2\u001b[0m \u001b[0;34m=\u001b[0m \u001b[0mstats\u001b[0m\u001b[0;34m.\u001b[0m\u001b[0mchi2_contingency\u001b[0m\u001b[0;34m(\u001b[0m\u001b[0mdata\u001b[0m\u001b[0;34m,\u001b[0m \u001b[0mcorrection\u001b[0m\u001b[0;34m=\u001b[0m\u001b[0;32mFalse\u001b[0m\u001b[0;34m)\u001b[0m\u001b[0;34m[\u001b[0m\u001b[0;36m0\u001b[0m\u001b[0;34m]\u001b[0m\u001b[0;34m\u001b[0m\u001b[0;34m\u001b[0m\u001b[0m\n\u001b[0m\u001b[1;32m      5\u001b[0m   \u001b[0mn\u001b[0m \u001b[0;34m=\u001b[0m \u001b[0mnp\u001b[0m\u001b[0;34m.\u001b[0m\u001b[0msum\u001b[0m\u001b[0;34m(\u001b[0m\u001b[0mdata\u001b[0m\u001b[0;34m)\u001b[0m\u001b[0;34m\u001b[0m\u001b[0;34m\u001b[0m\u001b[0m\n\u001b[1;32m      6\u001b[0m   \u001b[0mminDim\u001b[0m \u001b[0;34m=\u001b[0m \u001b[0mmin\u001b[0m\u001b[0;34m(\u001b[0m\u001b[0mdata\u001b[0m\u001b[0;34m.\u001b[0m\u001b[0mshape\u001b[0m\u001b[0;34m)\u001b[0m\u001b[0;34m-\u001b[0m\u001b[0;36m1\u001b[0m\u001b[0;34m\u001b[0m\u001b[0;34m\u001b[0m\u001b[0m\n",
            "\u001b[0;32m/usr/local/lib/python3.8/dist-packages/scipy/stats/contingency.py\u001b[0m in \u001b[0;36mchi2_contingency\u001b[0;34m(observed, correction, lambda_)\u001b[0m\n\u001b[1;32m    267\u001b[0m         \u001b[0;32mraise\u001b[0m \u001b[0mValueError\u001b[0m\u001b[0;34m(\u001b[0m\u001b[0;34m\"All values in `observed` must be nonnegative.\"\u001b[0m\u001b[0;34m)\u001b[0m\u001b[0;34m\u001b[0m\u001b[0;34m\u001b[0m\u001b[0m\n\u001b[1;32m    268\u001b[0m     \u001b[0;32mif\u001b[0m \u001b[0mobserved\u001b[0m\u001b[0;34m.\u001b[0m\u001b[0msize\u001b[0m \u001b[0;34m==\u001b[0m \u001b[0;36m0\u001b[0m\u001b[0;34m:\u001b[0m\u001b[0;34m\u001b[0m\u001b[0;34m\u001b[0m\u001b[0m\n\u001b[0;32m--> 269\u001b[0;31m         \u001b[0;32mraise\u001b[0m \u001b[0mValueError\u001b[0m\u001b[0;34m(\u001b[0m\u001b[0;34m\"No data; `observed` has size 0.\"\u001b[0m\u001b[0;34m)\u001b[0m\u001b[0;34m\u001b[0m\u001b[0;34m\u001b[0m\u001b[0m\n\u001b[0m\u001b[1;32m    270\u001b[0m \u001b[0;34m\u001b[0m\u001b[0m\n\u001b[1;32m    271\u001b[0m     \u001b[0mexpected\u001b[0m \u001b[0;34m=\u001b[0m \u001b[0mexpected_freq\u001b[0m\u001b[0;34m(\u001b[0m\u001b[0mobserved\u001b[0m\u001b[0;34m)\u001b[0m\u001b[0;34m\u001b[0m\u001b[0;34m\u001b[0m\u001b[0m\n",
            "\u001b[0;31mValueError\u001b[0m: No data; `observed` has size 0."
          ]
        }
      ]
    },
    {
      "cell_type": "code",
      "source": [
        "fig, ax = plt.subplots(figsize=(50,50)) \n",
        "hm=sns.heatmap(dd, annot=True,ax=ax,annot_kws={'size': 30})\n",
        "hm.set_xticklabels(hm.get_xmajorticklabels (), fontsize = 40)\n",
        "hm.set_yticklabels(hm.get_ymajorticklabels (), fontsize = 40,rotation=360)\n",
        "\n"
      ],
      "metadata": {
        "id": "OXClYQz2D_vR"
      },
      "execution_count": null,
      "outputs": []
    },
    {
      "cell_type": "code",
      "source": [
        "\n",
        "!pip install dython\n"
      ],
      "metadata": {
        "id": "nzwmjEVz0DC_"
      },
      "execution_count": null,
      "outputs": []
    },
    {
      "cell_type": "code",
      "source": [
        "from dython import nominal\n"
      ],
      "metadata": {
        "id": "G_zwTaXT0Zm7"
      },
      "execution_count": null,
      "outputs": []
    },
    {
      "cell_type": "markdown",
      "source": [
        "# **Coisas**"
      ],
      "metadata": {
        "id": "ZIVGFoOIROnp"
      }
    },
    {
      "cell_type": "code",
      "source": [
        "\n",
        "type_mes_groupby = acidentes_df.groupby([ 'Tipo de Acidente','Mes']).size()\n",
        "grave=type_mes_groupby['grave'].tolist()\n",
        "muito_grave=type_mes_groupby['muito grave'].tolist()\n",
        "ligeiro=type_mes_groupby['ligeiro'].tolist()\n",
        "\n",
        "df = pd.DataFrame({'Mes':mes_groupby.groups.keys(), 'grave':grave,'muito_grave':muito_grave,'ligeiro':ligeiro})\n",
        "ax = df.plot.bar(x='Mes', y=['grave','muito_grave','ligeiro'], rot=0,figsize=(10, 7))\n",
        "\n"
      ],
      "metadata": {
        "colab": {
          "base_uri": "https://localhost:8080/",
          "height": 442
        },
        "id": "MffWwO1IabIb",
        "outputId": "292b3248-b49b-4f42-ce6a-019a3ac36e4b"
      },
      "execution_count": null,
      "outputs": [
        {
          "output_type": "display_data",
          "data": {
            "text/plain": [
              "<Figure size 720x504 with 1 Axes>"
            ],
            "image/png": "[encoded data removed]"
          },
          "metadata": {
            "needs_background": "light"
          }
        }
      ]
    },
    {
      "cell_type": "code",
      "source": [
        "data_graves= acidentes_df[(acidentes_df['Num. Feridos ligeiros a 30 dias']>0) &(acidentes_df['Num. Feridos graves a 30 dias']==0) & (acidentes_df['Num. Mortos a 30 dias']==0)]"
      ],
      "metadata": {
        "id": "7VII1npfbgW3"
      },
      "execution_count": null,
      "outputs": []
    },
    {
      "cell_type": "code",
      "source": [
        "services = ['Cond Aderência','Distrito','Estado Conservação','Factores Atmosféricos',\n",
        "            'Luminosidade','Natureza','Obstáculos','Sinais','Sinais Luminosos',\n",
        "            'Tipo Piso','Traçado 1','Traçado 2','Traçado 3','Traçado 4']\n",
        "\n",
        "fig, axes = plt.subplots(nrows = 3,ncols = 5,figsize = (30,15))\n",
        "fig.tight_layout(pad=10.0)\n",
        "for i, item in enumerate(services):\n",
        "    if i < 5:\n",
        "        ax = data_graves[item].value_counts().plot(kind = 'barh',ax=axes[0,i],rot = 0)\n",
        "        \n",
        "    elif i >=5 and i < 10:\n",
        "        ax = data_graves[item].value_counts().plot(kind = 'barh',ax=axes[1,i-5],rot = 0)\n",
        "        \n",
        "    elif  i < 15:\n",
        "        ax = data_graves[item].value_counts().plot(kind = 'barh',ax=axes[2,i-10],rot = 0)\n",
        "   \n",
        "    ax.set_title(item)"
      ],
      "metadata": {
        "id": "nDkM6U1JcDFh",
        "outputId": "c06f618d-154f-44f3-d9a8-ef4900fc0d84",
        "colab": {
          "base_uri": "https://localhost:8080/",
          "height": 736
        }
      },
      "execution_count": null,
      "outputs": [
        {
          "output_type": "display_data",
          "data": {
            "text/plain": [
              "<Figure size 2160x1080 with 15 Axes>"
            ],
            "image/png": "[encoded data removed]"
          },
          "metadata": {
            "needs_background": "light"
          }
        }
      ]
    },
    {
      "cell_type": "code",
      "source": [
        "data['Datahora']=data['Datahora'].str.split(' ').str[-1]"
      ],
      "metadata": {
        "id": "sYk4T9ZM1Nyz"
      },
      "execution_count": null,
      "outputs": []
    },
    {
      "cell_type": "code",
      "source": [
        "data=data.rename(columns={\"Datahora\": \"Hora\"})"
      ],
      "metadata": {
        "id": "Gds7bXdddEIE"
      },
      "execution_count": null,
      "outputs": []
    },
    {
      "cell_type": "code",
      "source": [
        "hours=['06:00:00','12:00:00','18:00:00']\n",
        "d=pd.to_datetime(hours)\n",
        "\n",
        "# mornin=data[(data['Hora']>=hours[1]) & (data['Hora']<hours[2])  ]\n",
        "# print(mornin)\n",
        "feridos=[]\n",
        "for ind in data.index:\n",
        "  print(data['Hora'][ind])\n",
        "  if data['Hora'][ind]<hours[0]:\n",
        "    feridos.append('Madrugada')\n",
        "  elif (data['Hora'][ind]>=hours[0]) & (data['Hora'][ind]<hours[1]):\n",
        "    feridos.append('Manha')\n",
        "  elif  (data['Hora'][ind]>=hours[1]) & (data['Hora'][ind]<hours[2]):\n",
        "    feridos.append('Tarde')\n",
        "  else:\n",
        "    feridos.append('Noite')\n",
        "\n",
        "print(feridos)\n",
        "\n",
        "# conditions = [\n",
        "#     (data[data['Hora'] <hours[0]]),\n",
        "#     (data[(data['Hora']>=hours[0]) & (data['Hora']<hours[1])]),\n",
        "#     ( data[(data['Hora']>=hours[1]) & (data['Hora']<hours[2])  ]),\n",
        "#     ( data[data['Hora']>=hours[2]])\n",
        "# ]\n",
        "# values=['Madrugada','Manha','Tarde','Noite']\n",
        "\n",
        "# import numpy as np\n",
        "\n",
        "# print(np.select(conditions, values))\n"
      ],
      "metadata": {
        "id": "5zFi_os-v-kK",
        "outputId": "4a291e4d-d39f-4ac1-f0c5-5c8d4bedab18",
        "colab": {
          "base_uri": "https://localhost:8080/",
          "height": 504
        }
      },
      "execution_count": null,
      "outputs": [
        {
          "output_type": "stream",
          "name": "stdout",
          "text": [
            "14:15:00\n",
            "11:15:00\n",
            "12:45:00\n",
            "11:50:00\n",
            "19888    20:00:00\n",
            "19888    18:40:00\n",
            "Name: Hora, dtype: object\n"
          ]
        },
        {
          "output_type": "error",
          "ename": "ValueError",
          "evalue": "ignored",
          "traceback": [
            "\u001b[0;31m---------------------------------------------------------------------------\u001b[0m",
            "\u001b[0;31mValueError\u001b[0m                                Traceback (most recent call last)",
            "\u001b[0;32m<ipython-input-106-6e35db182ee6>\u001b[0m in \u001b[0;36m<module>\u001b[0;34m\u001b[0m\n\u001b[1;32m      7\u001b[0m \u001b[0;32mfor\u001b[0m \u001b[0mind\u001b[0m \u001b[0;32min\u001b[0m \u001b[0mdata\u001b[0m\u001b[0;34m.\u001b[0m\u001b[0mindex\u001b[0m\u001b[0;34m:\u001b[0m\u001b[0;34m\u001b[0m\u001b[0;34m\u001b[0m\u001b[0m\n\u001b[1;32m      8\u001b[0m   \u001b[0mprint\u001b[0m\u001b[0;34m(\u001b[0m\u001b[0mdata\u001b[0m\u001b[0;34m[\u001b[0m\u001b[0;34m'Hora'\u001b[0m\u001b[0;34m]\u001b[0m\u001b[0;34m[\u001b[0m\u001b[0mind\u001b[0m\u001b[0;34m]\u001b[0m\u001b[0;34m)\u001b[0m\u001b[0;34m\u001b[0m\u001b[0;34m\u001b[0m\u001b[0m\n\u001b[0;32m----> 9\u001b[0;31m   \u001b[0;32mif\u001b[0m \u001b[0mdata\u001b[0m\u001b[0;34m[\u001b[0m\u001b[0;34m'Hora'\u001b[0m\u001b[0;34m]\u001b[0m\u001b[0;34m[\u001b[0m\u001b[0mind\u001b[0m\u001b[0;34m]\u001b[0m\u001b[0;34m<\u001b[0m\u001b[0mhours\u001b[0m\u001b[0;34m[\u001b[0m\u001b[0;36m0\u001b[0m\u001b[0;34m]\u001b[0m\u001b[0;34m:\u001b[0m\u001b[0;34m\u001b[0m\u001b[0;34m\u001b[0m\u001b[0m\n\u001b[0m\u001b[1;32m     10\u001b[0m     \u001b[0mferidos\u001b[0m\u001b[0;34m.\u001b[0m\u001b[0mappend\u001b[0m\u001b[0;34m(\u001b[0m\u001b[0;34m'Madrugada'\u001b[0m\u001b[0;34m)\u001b[0m\u001b[0;34m\u001b[0m\u001b[0;34m\u001b[0m\u001b[0m\n\u001b[1;32m     11\u001b[0m   \u001b[0;32melif\u001b[0m \u001b[0;34m(\u001b[0m\u001b[0mdata\u001b[0m\u001b[0;34m[\u001b[0m\u001b[0;34m'Hora'\u001b[0m\u001b[0;34m]\u001b[0m\u001b[0;34m[\u001b[0m\u001b[0mind\u001b[0m\u001b[0;34m]\u001b[0m\u001b[0;34m>=\u001b[0m\u001b[0mhours\u001b[0m\u001b[0;34m[\u001b[0m\u001b[0;36m0\u001b[0m\u001b[0;34m]\u001b[0m\u001b[0;34m)\u001b[0m \u001b[0;34m&\u001b[0m \u001b[0;34m(\u001b[0m\u001b[0mdata\u001b[0m\u001b[0;34m[\u001b[0m\u001b[0;34m'Hora'\u001b[0m\u001b[0;34m]\u001b[0m\u001b[0;34m[\u001b[0m\u001b[0mind\u001b[0m\u001b[0;34m]\u001b[0m\u001b[0;34m<\u001b[0m\u001b[0mhours\u001b[0m\u001b[0;34m[\u001b[0m\u001b[0;36m1\u001b[0m\u001b[0;34m]\u001b[0m\u001b[0;34m)\u001b[0m\u001b[0;34m:\u001b[0m\u001b[0;34m\u001b[0m\u001b[0;34m\u001b[0m\u001b[0m\n",
            "\u001b[0;32m/usr/local/lib/python3.8/dist-packages/pandas/core/generic.py\u001b[0m in \u001b[0;36m__nonzero__\u001b[0;34m(self)\u001b[0m\n\u001b[1;32m   1535\u001b[0m     \u001b[0;34m@\u001b[0m\u001b[0mfinal\u001b[0m\u001b[0;34m\u001b[0m\u001b[0;34m\u001b[0m\u001b[0m\n\u001b[1;32m   1536\u001b[0m     \u001b[0;32mdef\u001b[0m \u001b[0m__nonzero__\u001b[0m\u001b[0;34m(\u001b[0m\u001b[0mself\u001b[0m\u001b[0;34m)\u001b[0m\u001b[0;34m:\u001b[0m\u001b[0;34m\u001b[0m\u001b[0;34m\u001b[0m\u001b[0m\n\u001b[0;32m-> 1537\u001b[0;31m         raise ValueError(\n\u001b[0m\u001b[1;32m   1538\u001b[0m             \u001b[0;34mf\"The truth value of a {type(self).__name__} is ambiguous. \"\u001b[0m\u001b[0;34m\u001b[0m\u001b[0;34m\u001b[0m\u001b[0m\n\u001b[1;32m   1539\u001b[0m             \u001b[0;34m\"Use a.empty, a.bool(), a.item(), a.any() or a.all().\"\u001b[0m\u001b[0;34m\u001b[0m\u001b[0;34m\u001b[0m\u001b[0m\n",
            "\u001b[0;31mValueError\u001b[0m: The truth value of a Series is ambiguous. Use a.empty, a.bool(), a.item(), a.any() or a.all()."
          ]
        }
      ]
    },
    {
      "cell_type": "code",
      "source": [
        "# feridos=['ligeiros', 'greves','mortes']\n",
        "# n_feridos=[]\n",
        "# n_feridos.append(data['Num. Feridos ligeiros a 30 dias'].sum())\n",
        "# n_feridos.append(data['Num. Feridos graves a 30 dias'].sum())\n",
        "# n_feridos.append(data['Num. Mortos a 30 dias'].sum())\n",
        "\n",
        "# df = pd.DataFrame({'Feridos':feridos, 'N Feridos/Mortos':n_feridos})\n",
        "# ax = df.plot.bar(x='Feridos', y='N Feridos/Mortos', rot=0)"
      ],
      "metadata": {
        "id": "jVD0kB3epPOc"
      },
      "execution_count": null,
      "outputs": []
    }
  ]
}