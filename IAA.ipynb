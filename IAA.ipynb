{
  "nbformat": 4,
  "nbformat_minor": 0,
  "metadata": {
    "colab": {
      "provenance": [],
      "mount_file_id": "1BiwkntrBhVBwzC-i9b2NuE-6XZidMTcg",
      "authorship_tag": "ABX9TyNtiaqyLornEDZa3rqITAEI",
      "include_colab_link": true
    },
    "kernelspec": {
      "name": "python3",
      "display_name": "Python 3"
    },
    "language_info": {
      "name": "python"
    }
  },
  "cells": [
    {
      "cell_type": "markdown",
      "metadata": {
        "id": "view-in-github",
        "colab_type": "text"
      },
      "source": [
        "<a href=\"https://colab.research.google.com/github/mrdso2-iscte/IAA_PROJECT/blob/main/IAA.ipynb\" target=\"_parent\"><img src=\"https://colab.research.google.com/assets/colab-badge.svg\" alt=\"Open In Colab\"/></a>"
      ]
    },
    {
      "cell_type": "code",
      "source": [
        "from google.colab import drive\n",
        "drive.mount('/content/drive')"
      ],
      "metadata": {
        "colab": {
          "base_uri": "https://localhost:8080/"
        },
        "id": "LRxY7n_nuXpl",
        "outputId": "cf80d3a8-8685-4e65-fb75-e01dfaed5466"
      },
      "execution_count": null,
      "outputs": [
        {
          "output_type": "stream",
          "name": "stdout",
          "text": [
            "Drive already mounted at /content/drive; to attempt to forcibly remount, call drive.mount(\"/content/drive\", force_remount=True).\n"
          ]
        }
      ]
    },
    {
      "cell_type": "code",
      "source": [
        "import pandas as pd"
      ],
      "metadata": {
        "id": "QzL8-qntuM11"
      },
      "execution_count": null,
      "outputs": []
    },
    {
      "cell_type": "code",
      "execution_count": null,
      "metadata": {
        "colab": {
          "base_uri": "https://localhost:8080/"
        },
        "id": "Qh_TFEpWuJi4",
        "outputId": "de9a305e-5516-4356-ab0f-1edbad09bc06"
      },
      "outputs": [
        {
          "output_type": "stream",
          "name": "stdout",
          "text": [
            "           Ano:2010           Unnamed: 1 Unnamed: 2 Unnamed: 3 Unnamed: 4  \\\n",
            "0               NaN                  NaN        NaN        NaN        NaN   \n",
            "1      Id. Acidente             Datahora        Dia        Mês       Hora   \n",
            "2        2010442610  2010:01:01 00:05:00   01/01/00   01/01/00   01/01/00   \n",
            "3        2010442441  2010:01:01 00:30:00   01/01/00   01/01/00   01/01/00   \n",
            "4        2010422349  2010:01:01 00:35:00   01/01/00   01/01/00   01/01/00   \n",
            "...             ...                  ...        ...        ...        ...   \n",
            "16378    2010470639  2010:06:29 17:30:00   01/29/00   06/01/00   01/01/00   \n",
            "16379    2010468375  2010:06:29 18:00:00   01/29/00   06/01/00   01/01/00   \n",
            "16380    2010470619  2010:06:29 18:00:00   01/29/00   06/01/00   01/01/00   \n",
            "16381    2010462209  2010:06:29 18:00:00   01/29/00   06/01/00   01/01/00   \n",
            "16382    2011502034  2010:06:29 18:15:00   01/29/00   06/01/00   01/01/00   \n",
            "\n",
            "                         Unnamed: 5        Unnamed: 6        Unnamed: 7  \\\n",
            "0                               NaN               NaN               NaN   \n",
            "1          Entidades Fiscalizadoras  Velocidade local  Velocidade geral   \n",
            "2       Guarda Nacional Republicana                50                50   \n",
            "3       Guarda Nacional Republicana               120               120   \n",
            "4      Polícia de Segurança Pública                50                50   \n",
            "...                             ...               ...               ...   \n",
            "16378   Guarda Nacional Republicana                50                50   \n",
            "16379   Guarda Nacional Republicana                50                50   \n",
            "16380   Guarda Nacional Republicana                50                50   \n",
            "16381  Polícia de Segurança Pública                50                50   \n",
            "16382  Polícia de Segurança Pública                50                50   \n",
            "\n",
            "          Unnamed: 8    Unnamed: 9  ...   Unnamed: 33  \\\n",
            "0                NaN           NaN  ...           NaN   \n",
            "1      Dia da Semana  Latitude GPS  ...    Obstáculos   \n",
            "2      Sexta-Feira        38,93275  ...  Inexistentes   \n",
            "3      Sexta-Feira       41,185697  ...  Inexistentes   \n",
            "4      Sexta-Feira            0,00  ...  Inexistentes   \n",
            "...              ...           ...  ...           ...   \n",
            "16378  Terça-Feira       40,928478  ...  Inexistentes   \n",
            "16379  Terça-Feira             NaN  ...  Inexistentes   \n",
            "16380  Terça-Feira             NaN  ...  Inexistentes   \n",
            "16381  Terça-Feira            0,00  ...  Inexistentes   \n",
            "16382  Terça-Feira            0,00  ...  Inexistentes   \n",
            "\n",
            "                                 Unnamed: 34   Unnamed: 35       Unnamed: 36  \\\n",
            "0                                        NaN           NaN               NaN   \n",
            "1                                   Sentidos        Sinais  Sinais Luminosos   \n",
            "2                               NÃO DEFINIDO  NÃO DEFINIDO      Inexistentes   \n",
            "3      No sentido crescente da quilometragem        Outros      Inexistentes   \n",
            "4                               NÃO DEFINIDO  NÃO DEFINIDO      Inexistentes   \n",
            "...                                      ...           ...               ...   \n",
            "16378                           NÃO DEFINIDO  NÃO DEFINIDO      Inexistentes   \n",
            "16379                           NÃO DEFINIDO          Stop      Inexistentes   \n",
            "16380                           NÃO DEFINIDO  NÃO DEFINIDO      Inexistentes   \n",
            "16381                           NÃO DEFINIDO        Outros      Inexistentes   \n",
            "16382                           NÃO DEFINIDO  NÃO DEFINIDO      Inexistentes   \n",
            "\n",
            "      Unnamed: 37 Unnamed: 38     Unnamed: 39                Unnamed: 40  \\\n",
            "0             NaN         NaN             NaN                        NaN   \n",
            "1       Tipo Piso   Traçado 1       Traçado 2                  Traçado 3   \n",
            "2      Betuminoso       Recta  Com inclinação  Sem berma ou impraticável   \n",
            "3      Betuminoso       Curva  Com inclinação      Berma não pavimentada   \n",
            "4      Betuminoso       Curva      Em patamar          Berma pavimentada   \n",
            "...           ...         ...             ...                        ...   \n",
            "16378  Betuminoso       Recta  Com inclinação          Berma pavimentada   \n",
            "16379  Betuminoso       Recta      Em patamar  Sem berma ou impraticável   \n",
            "16380  Betuminoso       Curva  Com inclinação  Sem berma ou impraticável   \n",
            "16381  Betuminoso       Recta      Em patamar      Berma não pavimentada   \n",
            "16382  Betuminoso       Recta  Com inclinação          Berma pavimentada   \n",
            "\n",
            "        Unnamed: 41   Unnamed: 42  \n",
            "0               NaN           NaN  \n",
            "1         Traçado 4  Via Trânsito  \n",
            "2        No passeio       Direita  \n",
            "3      Em plena via       Direita  \n",
            "4        No passeio       Direita  \n",
            "...             ...           ...  \n",
            "16378  Em plena via       Direita  \n",
            "16379  Em plena via       Direita  \n",
            "16380  Em plena via       Direita  \n",
            "16381      Na berma       Direita  \n",
            "16382  Em plena via       Direita  \n",
            "\n",
            "[16383 rows x 43 columns]\n"
          ]
        }
      ],
      "source": [
        "data_frame=pd.read_csv('/content/drive/MyDrive/Colab Notebooks/dias_acidentes.csv', sep = ';', encoding=\"ISO-8859-1\")\n",
        "print(data_frame)"
      ]
    }
  ]
}